{
 "cells": [
  {
   "cell_type": "markdown",
   "id": "70ca81ed",
   "metadata": {},
   "source": [
    "<div class=\"alert alert-block alert-info\" style=\"margin-top: 20px\">\n",
    "<br><br>     \n",
    "<p style=\"text-align: center;\"> <font size=\"18\"><b>Analysis of my running performance </b></font></p>\n",
    "<br><br>  \n",
    "</div>"
   ]
  },
  {
   "cell_type": "markdown",
   "id": "6f1f37af",
   "metadata": {},
   "source": [
    "# ✔️ Introduction"
   ]
  },
  {
   "cell_type": "markdown",
   "id": "fe5e2f41",
   "metadata": {},
   "source": [
    " "
   ]
  },
  {
   "cell_type": "markdown",
   "id": "a1cfb47a",
   "metadata": {},
   "source": [
    "The purpose of this notebook is to present analysis of my running performance and create a machine learning model which will be able to predict the average tempo ( seconds / kilometer ) when given the distance and elevation gain. "
   ]
  },
  {
   "cell_type": "markdown",
   "id": "17e27634",
   "metadata": {},
   "source": [
    "The notebook consists of three main parts - <b>Data Wrangling</b> - where I clean the dataset and make it ready for further steps, <b>EDA which stands for Exploratory Data Analysis</b> - where I take a deeper look into data and try to have a good overview on my activities, and finaly - <b>building machine larning models</b> based on the cleaned and understood data."
   ]
  },
  {
   "cell_type": "markdown",
   "id": "ac1d6887",
   "metadata": {},
   "source": [
    "Data for my activities has been collected from Garmin watch, which I always use  while doing sport activities. Thanks to Garmin Connect app I was able to extract it in the .CSV format. "
   ]
  },
  {
   "cell_type": "markdown",
   "id": "89d99f85",
   "metadata": {},
   "source": [
    "### Import libraries"
   ]
  },
  {
   "cell_type": "code",
   "execution_count": 1,
   "id": "f14e6fff",
   "metadata": {},
   "outputs": [],
   "source": [
    "# numpy and pandas for data wrangling\n",
    "import numpy as np\n",
    "import pandas as pd\n",
    "\n",
    "# matplotlib and seaborn for plotting\n",
    "import matplotlib.pyplot as plt\n",
    "import seaborn as sns\n",
    "\n",
    "# turn-off warnings\n",
    "import warnings\n",
    "warnings.filterwarnings('ignore')"
   ]
  },
  {
   "cell_type": "markdown",
   "id": "8829f0eb",
   "metadata": {},
   "source": [
    "### Pandas display option"
   ]
  },
  {
   "cell_type": "code",
   "execution_count": 2,
   "id": "06ab4b89",
   "metadata": {},
   "outputs": [],
   "source": [
    "pd.set_option('display.max_columns', None)\n",
    "pd.set_option('display.max_rows', None)\n",
    "pd.set_option('precision', 2)"
   ]
  },
  {
   "cell_type": "markdown",
   "id": "6aaa6836",
   "metadata": {},
   "source": [
    "### Loading data"
   ]
  },
  {
   "cell_type": "code",
   "execution_count": 3,
   "id": "0b3e38ca",
   "metadata": {},
   "outputs": [],
   "source": [
    "df_w_oryginal = pd.read_csv('weather.csv')\n",
    "df_oryginal = pd.read_csv('Activities.csv')"
   ]
  },
  {
   "cell_type": "code",
   "execution_count": 4,
   "id": "f37a5ed7",
   "metadata": {},
   "outputs": [
    {
     "data": {
      "text/html": [
       "<div>\n",
       "<style scoped>\n",
       "    .dataframe tbody tr th:only-of-type {\n",
       "        vertical-align: middle;\n",
       "    }\n",
       "\n",
       "    .dataframe tbody tr th {\n",
       "        vertical-align: top;\n",
       "    }\n",
       "\n",
       "    .dataframe thead th {\n",
       "        text-align: right;\n",
       "    }\n",
       "</style>\n",
       "<table border=\"1\" class=\"dataframe\">\n",
       "  <thead>\n",
       "    <tr style=\"text-align: right;\">\n",
       "      <th></th>\n",
       "      <th>Typ aktywności</th>\n",
       "      <th>Data</th>\n",
       "      <th>Ulubiony</th>\n",
       "      <th>Tytuł</th>\n",
       "      <th>Dystans</th>\n",
       "      <th>Kalorie</th>\n",
       "      <th>Czas</th>\n",
       "      <th>Średnie tętno</th>\n",
       "      <th>Maksymalne tętno</th>\n",
       "      <th>Aerobowy TE</th>\n",
       "      <th>Średni rytm biegu</th>\n",
       "      <th>Maksymalny rytm biegu</th>\n",
       "      <th>Średnie tempo</th>\n",
       "      <th>Najlepsze tempo</th>\n",
       "      <th>Całkowity wznios</th>\n",
       "      <th>Całkowity spadek</th>\n",
       "      <th>Średnia długość kroku</th>\n",
       "      <th>Średnie odchylenie do długości</th>\n",
       "      <th>Średnie odchylenie pionowe</th>\n",
       "      <th>Training Stress Score® (TSS®)</th>\n",
       "      <th>Trudność</th>\n",
       "      <th>Płynność</th>\n",
       "      <th>Czas nurkowania</th>\n",
       "      <th>Minimalna temperatura</th>\n",
       "      <th>Przerwa powierzchniowa</th>\n",
       "      <th>Dekompresja</th>\n",
       "      <th>Czas najlepszego okrążenia</th>\n",
       "      <th>Liczba okrążeń</th>\n",
       "      <th>Maksymalna temperatura</th>\n",
       "      <th>Czas ruchu</th>\n",
       "      <th>Upłynęło czasu</th>\n",
       "      <th>Minimalna wysokość</th>\n",
       "      <th>Maksymalna wysokość</th>\n",
       "    </tr>\n",
       "  </thead>\n",
       "  <tbody>\n",
       "    <tr>\n",
       "      <th>0</th>\n",
       "      <td>Bieganie</td>\n",
       "      <td>2021-10-29 17:04:38</td>\n",
       "      <td>False</td>\n",
       "      <td>Myślenice Bieganie</td>\n",
       "      <td>6.08</td>\n",
       "      <td>455</td>\n",
       "      <td>00:31:26</td>\n",
       "      <td>--</td>\n",
       "      <td>--</td>\n",
       "      <td>--</td>\n",
       "      <td>168</td>\n",
       "      <td>176</td>\n",
       "      <td>5:10</td>\n",
       "      <td>4:08</td>\n",
       "      <td>102</td>\n",
       "      <td>123</td>\n",
       "      <td>1.15</td>\n",
       "      <td>0.0</td>\n",
       "      <td>0.0</td>\n",
       "      <td>0.0</td>\n",
       "      <td>0.0</td>\n",
       "      <td>0.0</td>\n",
       "      <td>0:00</td>\n",
       "      <td>0.0</td>\n",
       "      <td>0:00</td>\n",
       "      <td>Nie</td>\n",
       "      <td>00:27.86</td>\n",
       "      <td>7</td>\n",
       "      <td>0.0</td>\n",
       "      <td>00:31:24</td>\n",
       "      <td>00:32:30</td>\n",
       "      <td>261</td>\n",
       "      <td>353</td>\n",
       "    </tr>\n",
       "    <tr>\n",
       "      <th>1</th>\n",
       "      <td>Bieganie</td>\n",
       "      <td>2021-10-08 16:34:46</td>\n",
       "      <td>False</td>\n",
       "      <td>Myślenice Bieganie</td>\n",
       "      <td>6.04</td>\n",
       "      <td>451</td>\n",
       "      <td>00:30:19</td>\n",
       "      <td>--</td>\n",
       "      <td>--</td>\n",
       "      <td>--</td>\n",
       "      <td>170</td>\n",
       "      <td>181</td>\n",
       "      <td>5:01</td>\n",
       "      <td>4:16</td>\n",
       "      <td>104</td>\n",
       "      <td>121</td>\n",
       "      <td>1.17</td>\n",
       "      <td>0.0</td>\n",
       "      <td>0.0</td>\n",
       "      <td>0.0</td>\n",
       "      <td>0.0</td>\n",
       "      <td>0.0</td>\n",
       "      <td>0:00</td>\n",
       "      <td>0.0</td>\n",
       "      <td>0:00</td>\n",
       "      <td>Nie</td>\n",
       "      <td>00:10.33</td>\n",
       "      <td>7</td>\n",
       "      <td>0.0</td>\n",
       "      <td>00:30:17</td>\n",
       "      <td>00:31:26</td>\n",
       "      <td>261</td>\n",
       "      <td>353</td>\n",
       "    </tr>\n",
       "    <tr>\n",
       "      <th>2</th>\n",
       "      <td>Bieganie</td>\n",
       "      <td>2021-10-07 18:20:34</td>\n",
       "      <td>False</td>\n",
       "      <td>Siepraw Bieganie</td>\n",
       "      <td>4.46</td>\n",
       "      <td>335</td>\n",
       "      <td>00:23:19</td>\n",
       "      <td>--</td>\n",
       "      <td>--</td>\n",
       "      <td>--</td>\n",
       "      <td>169</td>\n",
       "      <td>192</td>\n",
       "      <td>5:14</td>\n",
       "      <td>4:27</td>\n",
       "      <td>89</td>\n",
       "      <td>93</td>\n",
       "      <td>1.13</td>\n",
       "      <td>0.0</td>\n",
       "      <td>0.0</td>\n",
       "      <td>0.0</td>\n",
       "      <td>0.0</td>\n",
       "      <td>0.0</td>\n",
       "      <td>0:00</td>\n",
       "      <td>0.0</td>\n",
       "      <td>0:00</td>\n",
       "      <td>Nie</td>\n",
       "      <td>02:31.13</td>\n",
       "      <td>5</td>\n",
       "      <td>0.0</td>\n",
       "      <td>00:23:14</td>\n",
       "      <td>00:23:59</td>\n",
       "      <td>261</td>\n",
       "      <td>353</td>\n",
       "    </tr>\n",
       "  </tbody>\n",
       "</table>\n",
       "</div>"
      ],
      "text/plain": [
       "  Typ aktywności                 Data  Ulubiony               Tytuł  Dystans  \\\n",
       "0       Bieganie  2021-10-29 17:04:38     False  Myślenice Bieganie     6.08   \n",
       "1       Bieganie  2021-10-08 16:34:46     False  Myślenice Bieganie     6.04   \n",
       "2       Bieganie  2021-10-07 18:20:34     False    Siepraw Bieganie     4.46   \n",
       "\n",
       "  Kalorie      Czas Średnie tętno Maksymalne tętno Aerobowy TE  \\\n",
       "0     455  00:31:26            --               --          --   \n",
       "1     451  00:30:19            --               --          --   \n",
       "2     335  00:23:19            --               --          --   \n",
       "\n",
       "   Średni rytm biegu  Maksymalny rytm biegu Średnie tempo Najlepsze tempo  \\\n",
       "0                168                    176          5:10            4:08   \n",
       "1                170                    181          5:01            4:16   \n",
       "2                169                    192          5:14            4:27   \n",
       "\n",
       "  Całkowity wznios Całkowity spadek  Średnia długość kroku  \\\n",
       "0              102              123                   1.15   \n",
       "1              104              121                   1.17   \n",
       "2               89               93                   1.13   \n",
       "\n",
       "   Średnie odchylenie do długości  Średnie odchylenie pionowe  \\\n",
       "0                             0.0                         0.0   \n",
       "1                             0.0                         0.0   \n",
       "2                             0.0                         0.0   \n",
       "\n",
       "   Training Stress Score® (TSS®)  Trudność  Płynność Czas nurkowania  \\\n",
       "0                            0.0       0.0       0.0            0:00   \n",
       "1                            0.0       0.0       0.0            0:00   \n",
       "2                            0.0       0.0       0.0            0:00   \n",
       "\n",
       "   Minimalna temperatura Przerwa powierzchniowa Dekompresja  \\\n",
       "0                    0.0                   0:00         Nie   \n",
       "1                    0.0                   0:00         Nie   \n",
       "2                    0.0                   0:00         Nie   \n",
       "\n",
       "  Czas najlepszego okrążenia  Liczba okrążeń  Maksymalna temperatura  \\\n",
       "0                   00:27.86               7                     0.0   \n",
       "1                   00:10.33               7                     0.0   \n",
       "2                   02:31.13               5                     0.0   \n",
       "\n",
       "  Czas ruchu Upłynęło czasu Minimalna wysokość Maksymalna wysokość  \n",
       "0   00:31:24       00:32:30                261                 353  \n",
       "1   00:30:17       00:31:26                261                 353  \n",
       "2   00:23:14       00:23:59                261                 353  "
      ]
     },
     "execution_count": 4,
     "metadata": {},
     "output_type": "execute_result"
    }
   ],
   "source": [
    "df_oryginal.head(3)"
   ]
  },
  {
   "cell_type": "code",
   "execution_count": 5,
   "id": "94915ba3",
   "metadata": {},
   "outputs": [],
   "source": [
    "# due to to incorrect data from my Garmin Connect, I need to remove rows with 00:00:00 moving time\n",
    "\n",
    "df_oryginal = df_oryginal.drop([5,6,7,8,9,10,11], axis = 0)"
   ]
  },
  {
   "cell_type": "markdown",
   "id": "dfa02561",
   "metadata": {},
   "source": [
    "# ✔️ Data wrangling"
   ]
  },
  {
   "cell_type": "markdown",
   "id": "831b4609",
   "metadata": {},
   "source": [
    "### Part 1. Activities"
   ]
  },
  {
   "cell_type": "markdown",
   "id": "9c21b787",
   "metadata": {},
   "source": [
    "<br>\n",
    "First of all, I want to check what type of data I'll be dealing with, what needs to be changed and which columns won't be needed.\n",
    "<br><br>"
   ]
  },
  {
   "cell_type": "code",
   "execution_count": 6,
   "id": "7fd59366",
   "metadata": {},
   "outputs": [
    {
     "name": "stdout",
     "output_type": "stream",
     "text": [
      "<class 'pandas.core.frame.DataFrame'>\n",
      "Int64Index: 175 entries, 0 to 181\n",
      "Data columns (total 33 columns):\n",
      " #   Column                          Non-Null Count  Dtype  \n",
      "---  ------                          --------------  -----  \n",
      " 0   Typ aktywności                  175 non-null    object \n",
      " 1   Data                            175 non-null    object \n",
      " 2   Ulubiony                        175 non-null    bool   \n",
      " 3   Tytuł                           175 non-null    object \n",
      " 4   Dystans                         175 non-null    float64\n",
      " 5   Kalorie                         175 non-null    object \n",
      " 6   Czas                            175 non-null    object \n",
      " 7   Średnie tętno                   175 non-null    object \n",
      " 8   Maksymalne tętno                175 non-null    object \n",
      " 9   Aerobowy TE                     175 non-null    object \n",
      " 10  Średni rytm biegu               175 non-null    int64  \n",
      " 11  Maksymalny rytm biegu           175 non-null    int64  \n",
      " 12  Średnie tempo                   175 non-null    object \n",
      " 13  Najlepsze tempo                 175 non-null    object \n",
      " 14  Całkowity wznios                175 non-null    object \n",
      " 15  Całkowity spadek                175 non-null    object \n",
      " 16  Średnia długość kroku           175 non-null    float64\n",
      " 17  Średnie odchylenie do długości  175 non-null    float64\n",
      " 18  Średnie odchylenie pionowe      175 non-null    float64\n",
      " 19  Training Stress Score® (TSS®)   175 non-null    float64\n",
      " 20  Trudność                        175 non-null    float64\n",
      " 21  Płynność                        175 non-null    float64\n",
      " 22  Czas nurkowania                 175 non-null    object \n",
      " 23  Minimalna temperatura           175 non-null    float64\n",
      " 24  Przerwa powierzchniowa          175 non-null    object \n",
      " 25  Dekompresja                     175 non-null    object \n",
      " 26  Czas najlepszego okrążenia      175 non-null    object \n",
      " 27  Liczba okrążeń                  175 non-null    int64  \n",
      " 28  Maksymalna temperatura          175 non-null    float64\n",
      " 29  Czas ruchu                      175 non-null    object \n",
      " 30  Upłynęło czasu                  175 non-null    object \n",
      " 31  Minimalna wysokość              175 non-null    object \n",
      " 32  Maksymalna wysokość             175 non-null    object \n",
      "dtypes: bool(1), float64(9), int64(3), object(20)\n",
      "memory usage: 45.3+ KB\n"
     ]
    }
   ],
   "source": [
    "df_oryginal.info()"
   ]
  },
  {
   "cell_type": "markdown",
   "id": "c9da07e4",
   "metadata": {},
   "source": [
    "<br>\n",
    "This column will be needed on that step. They are in Polish but I'm going to change their names into English for better understanding. \n",
    "<br><br>"
   ]
  },
  {
   "cell_type": "code",
   "execution_count": 7,
   "id": "d643e63a",
   "metadata": {},
   "outputs": [],
   "source": [
    "# Data -> Date\n",
    "# Dystans -> Distance\n",
    "# Średni rytm biegu -> Average running rythm\n",
    "# Średnie tempo -> Average tempo\n",
    "# Całkowity wznios -> Elevation gain\n",
    "# Czas ruchu - > Moving time\n",
    "# Upłynęło czasu -> Elapsed time"
   ]
  },
  {
   "cell_type": "code",
   "execution_count": 8,
   "id": "117fead2",
   "metadata": {},
   "outputs": [],
   "source": [
    "# creating new df only with required columns\n",
    "df = df_oryginal[['Data', 'Dystans', 'Średni rytm biegu', 'Średnie tempo', 'Całkowity wznios', 'Czas ruchu', 'Upłynęło czasu']]"
   ]
  },
  {
   "cell_type": "code",
   "execution_count": 9,
   "id": "fb87b1cf",
   "metadata": {},
   "outputs": [],
   "source": [
    "# changing names to English\n",
    "df = df.rename(columns = {'Data': 'Date', 'Dystans': 'Distance', 'Średni rytm biegu': 'Avg_running_rythm',\n",
    "                          'Średnie tempo': 'Avg_tempo', 'Całkowity wznios': 'Elevation_gain',\n",
    "                          'Czas ruchu': 'Moving_time', 'Upłynęło czasu': 'Elapsed_time'})"
   ]
  },
  {
   "cell_type": "code",
   "execution_count": 10,
   "id": "cdedb3c5",
   "metadata": {
    "scrolled": true
   },
   "outputs": [],
   "source": [
    "# changing 'Elevation_gain' type to int32\n",
    "df['Elevation_gain_2'] = df.Elevation_gain.str.extract('(\\d+)', expand = False)\n",
    "df = df.astype({'Elevation_gain_2': 'float64'})\n",
    "df.drop('Elevation_gain', axis = 1, inplace = True)\n",
    "df.rename(columns={'Elevation_gain_2': 'Elevation_gain'}, inplace = True)\n",
    "df['Elevation_gain'].replace(np.nan, 0, inplace = True)"
   ]
  },
  {
   "cell_type": "code",
   "execution_count": 11,
   "id": "d3d8ad71",
   "metadata": {},
   "outputs": [],
   "source": [
    "# changing 'Avg_running_rythm' type to float64\n",
    "df = df.astype({'Avg_running_rythm': 'float64'})"
   ]
  },
  {
   "cell_type": "code",
   "execution_count": 12,
   "id": "f235fcb9",
   "metadata": {},
   "outputs": [
    {
     "data": {
      "text/html": [
       "<div>\n",
       "<style scoped>\n",
       "    .dataframe tbody tr th:only-of-type {\n",
       "        vertical-align: middle;\n",
       "    }\n",
       "\n",
       "    .dataframe tbody tr th {\n",
       "        vertical-align: top;\n",
       "    }\n",
       "\n",
       "    .dataframe thead th {\n",
       "        text-align: right;\n",
       "    }\n",
       "</style>\n",
       "<table border=\"1\" class=\"dataframe\">\n",
       "  <thead>\n",
       "    <tr style=\"text-align: right;\">\n",
       "      <th></th>\n",
       "      <th>Date</th>\n",
       "      <th>Distance</th>\n",
       "      <th>Avg_running_rythm</th>\n",
       "      <th>Avg_tempo</th>\n",
       "      <th>Moving_time</th>\n",
       "      <th>Elapsed_time</th>\n",
       "      <th>Elevation_gain</th>\n",
       "    </tr>\n",
       "  </thead>\n",
       "  <tbody>\n",
       "    <tr>\n",
       "      <th>0</th>\n",
       "      <td>2021-10-29 17:04:38</td>\n",
       "      <td>6.08</td>\n",
       "      <td>168.0</td>\n",
       "      <td>5:10</td>\n",
       "      <td>00:31:24</td>\n",
       "      <td>00:32:30</td>\n",
       "      <td>102.0</td>\n",
       "    </tr>\n",
       "    <tr>\n",
       "      <th>1</th>\n",
       "      <td>2021-10-08 16:34:46</td>\n",
       "      <td>6.04</td>\n",
       "      <td>170.0</td>\n",
       "      <td>5:01</td>\n",
       "      <td>00:30:17</td>\n",
       "      <td>00:31:26</td>\n",
       "      <td>104.0</td>\n",
       "    </tr>\n",
       "    <tr>\n",
       "      <th>2</th>\n",
       "      <td>2021-10-07 18:20:34</td>\n",
       "      <td>4.46</td>\n",
       "      <td>169.0</td>\n",
       "      <td>5:14</td>\n",
       "      <td>00:23:14</td>\n",
       "      <td>00:23:59</td>\n",
       "      <td>89.0</td>\n",
       "    </tr>\n",
       "    <tr>\n",
       "      <th>3</th>\n",
       "      <td>2021-10-07 18:09:48</td>\n",
       "      <td>1.17</td>\n",
       "      <td>168.0</td>\n",
       "      <td>5:06</td>\n",
       "      <td>00:05:56.7</td>\n",
       "      <td>00:06:01.2</td>\n",
       "      <td>0.0</td>\n",
       "    </tr>\n",
       "    <tr>\n",
       "      <th>4</th>\n",
       "      <td>2021-09-24 17:42:46</td>\n",
       "      <td>5.02</td>\n",
       "      <td>175.0</td>\n",
       "      <td>4:24</td>\n",
       "      <td>00:22:03</td>\n",
       "      <td>00:22:07</td>\n",
       "      <td>2.0</td>\n",
       "    </tr>\n",
       "  </tbody>\n",
       "</table>\n",
       "</div>"
      ],
      "text/plain": [
       "                  Date  Distance  Avg_running_rythm Avg_tempo Moving_time  \\\n",
       "0  2021-10-29 17:04:38      6.08              168.0      5:10    00:31:24   \n",
       "1  2021-10-08 16:34:46      6.04              170.0      5:01    00:30:17   \n",
       "2  2021-10-07 18:20:34      4.46              169.0      5:14    00:23:14   \n",
       "3  2021-10-07 18:09:48      1.17              168.0      5:06  00:05:56.7   \n",
       "4  2021-09-24 17:42:46      5.02              175.0      4:24    00:22:03   \n",
       "\n",
       "  Elapsed_time  Elevation_gain  \n",
       "0     00:32:30           102.0  \n",
       "1     00:31:26           104.0  \n",
       "2     00:23:59            89.0  \n",
       "3   00:06:01.2             0.0  \n",
       "4     00:22:07             2.0  "
      ]
     },
     "execution_count": 12,
     "metadata": {},
     "output_type": "execute_result"
    }
   ],
   "source": [
    "df.head()"
   ]
  },
  {
   "cell_type": "markdown",
   "id": "8f96155a",
   "metadata": {},
   "source": [
    "<br>\n",
    "Now the DataFrame structure looks ok. I will once again check what kind of data type I'm dealing with and I will go to the next step.\n",
    "<br><br>"
   ]
  },
  {
   "cell_type": "code",
   "execution_count": 13,
   "id": "d8fc8227",
   "metadata": {},
   "outputs": [
    {
     "name": "stdout",
     "output_type": "stream",
     "text": [
      "<class 'pandas.core.frame.DataFrame'>\n",
      "Int64Index: 175 entries, 0 to 181\n",
      "Data columns (total 7 columns):\n",
      " #   Column             Non-Null Count  Dtype  \n",
      "---  ------             --------------  -----  \n",
      " 0   Date               175 non-null    object \n",
      " 1   Distance           175 non-null    float64\n",
      " 2   Avg_running_rythm  175 non-null    float64\n",
      " 3   Avg_tempo          175 non-null    object \n",
      " 4   Moving_time        175 non-null    object \n",
      " 5   Elapsed_time       175 non-null    object \n",
      " 6   Elevation_gain     175 non-null    float64\n",
      "dtypes: float64(3), object(4)\n",
      "memory usage: 10.9+ KB\n"
     ]
    }
   ],
   "source": [
    "df.info()"
   ]
  },
  {
   "cell_type": "markdown",
   "id": "9298f149",
   "metadata": {},
   "source": [
    "At first, I will convert date to the proper format. I'm interested only in date, therefore I will skip the time part."
   ]
  },
  {
   "cell_type": "code",
   "execution_count": 14,
   "id": "37a65051",
   "metadata": {},
   "outputs": [
    {
     "name": "stdout",
     "output_type": "stream",
     "text": [
      "datetime64[ns]\n"
     ]
    }
   ],
   "source": [
    "#  because my 'Date' column isn't in the proper date format, I will first extract the 'yyyy-mm-dd' using RegExr,\n",
    "# and than, based on the output, I'll create correct dates.\n",
    "\n",
    "df['Dates'] = df.Date.str.extract('(\\d{4}.\\d*.\\d*)', expand = False)\n",
    "df['Date'] = pd.to_datetime(df['Dates'])\n",
    "\n",
    "print(df['Date'].dtype)"
   ]
  },
  {
   "cell_type": "markdown",
   "id": "fb9eaa87",
   "metadata": {},
   "source": [
    "As we can see above, column 'Date' has been correctly changed to datetime64 type. I can remove 'Dates' column, as it won't be needed anymore. "
   ]
  },
  {
   "cell_type": "code",
   "execution_count": 15,
   "id": "e42318d6",
   "metadata": {},
   "outputs": [],
   "source": [
    "df.drop('Dates', axis = 1, inplace = True)"
   ]
  },
  {
   "cell_type": "markdown",
   "id": "05bab7b4",
   "metadata": {},
   "source": [
    "<br>In the next step I will convert time showing in 'Moving_time' and 'Elapsed_time' columns into seconds. This is required for further calculations. Doing so is impossible in the format that data is now. I will also remove column 'Avg_temp'. It will be recreated later based on converted values ('Moving_time', 'Elapsed_time')\n",
    "<br><br>"
   ]
  },
  {
   "cell_type": "code",
   "execution_count": 16,
   "id": "8ce1118b",
   "metadata": {
    "scrolled": true
   },
   "outputs": [],
   "source": [
    "# extracting only correct values as some of them were in the format like that HH:MM:SS.MS\n",
    "\n",
    "df['Moving_time'] = df.Moving_time.str.extract('(\\d{2}\\:\\d{2}\\:\\d{2})', expand = False)\n",
    "df['Elapsed_time'] = df.Elapsed_time.str.extract('(\\d{2}\\:\\d{2}\\:\\d{2})', expand = False)"
   ]
  },
  {
   "cell_type": "code",
   "execution_count": 17,
   "id": "33a4c11d",
   "metadata": {},
   "outputs": [],
   "source": [
    "# converting values to datetime format\n",
    "\n",
    "df['Moving_time'] = pd.to_datetime(df['Moving_time'], format = '%H:%M:%S').dt.time\n",
    "df['Elapsed_time'] = pd.to_datetime(df['Elapsed_time'], format = '%H:%M:%S').dt.time"
   ]
  },
  {
   "cell_type": "markdown",
   "id": "e4685117",
   "metadata": {},
   "source": [
    "<br>Function below will convert given timeformat into seconds\n",
    "<br><br>"
   ]
  },
  {
   "cell_type": "code",
   "execution_count": 18,
   "id": "07f9ca14",
   "metadata": {},
   "outputs": [],
   "source": [
    "def total_seconds_in_time(t):\n",
    "    from datetime import timedelta\n",
    "    return timedelta(hours=t.hour, minutes=t.minute, seconds=t.second) / timedelta(seconds=1)"
   ]
  },
  {
   "cell_type": "code",
   "execution_count": 19,
   "id": "b6ebf2d3",
   "metadata": {},
   "outputs": [],
   "source": [
    "# creating columns with values shown as seconds\n",
    "df['Moving_time_in_seconds'] = df['Moving_time'].apply(lambda x: total_seconds_in_time(x))\n",
    "df['Elapsed_time_in_seconds'] = df['Elapsed_time'].apply(lambda x: total_seconds_in_time(x))"
   ]
  },
  {
   "cell_type": "markdown",
   "id": "08b65dc1",
   "metadata": {},
   "source": [
    "<br>For now, I will remove 'Moving_time' and 'Elapsed_time' columns in order to operate on one value format.\n",
    "<br><br>"
   ]
  },
  {
   "cell_type": "code",
   "execution_count": 20,
   "id": "c701b971",
   "metadata": {},
   "outputs": [],
   "source": [
    "df.drop(['Moving_time', 'Elapsed_time'], axis = 1, inplace= True )"
   ]
  },
  {
   "cell_type": "code",
   "execution_count": 21,
   "id": "4ba6f7d6",
   "metadata": {},
   "outputs": [],
   "source": [
    "# recreating 'Avg_tempo' coulumn with seconds as values\n",
    "\n",
    "df = df.drop('Avg_tempo', axis = 1)\n",
    "df['Avg_tempo_in_seconds'] = df['Moving_time_in_seconds'] / df['Distance']"
   ]
  },
  {
   "cell_type": "markdown",
   "id": "e65cdd36",
   "metadata": {},
   "source": [
    "<br>I would also like to check what was the rest time and percentage of it in total activity time.\n",
    "<br><br>"
   ]
  },
  {
   "cell_type": "code",
   "execution_count": 22,
   "id": "2c8e0cf8",
   "metadata": {},
   "outputs": [],
   "source": [
    "df['Rest_time_in_seconds'] = df['Elapsed_time_in_seconds'] - df['Moving_time_in_seconds']\n",
    "df['Rest_percentage'] = df['Rest_time_in_seconds'] / df['Elapsed_time_in_seconds'] * 100"
   ]
  },
  {
   "cell_type": "code",
   "execution_count": 23,
   "id": "9a53c988",
   "metadata": {},
   "outputs": [
    {
     "data": {
      "text/html": [
       "<div>\n",
       "<style scoped>\n",
       "    .dataframe tbody tr th:only-of-type {\n",
       "        vertical-align: middle;\n",
       "    }\n",
       "\n",
       "    .dataframe tbody tr th {\n",
       "        vertical-align: top;\n",
       "    }\n",
       "\n",
       "    .dataframe thead th {\n",
       "        text-align: right;\n",
       "    }\n",
       "</style>\n",
       "<table border=\"1\" class=\"dataframe\">\n",
       "  <thead>\n",
       "    <tr style=\"text-align: right;\">\n",
       "      <th></th>\n",
       "      <th>Date</th>\n",
       "      <th>Distance</th>\n",
       "      <th>Avg_running_rythm</th>\n",
       "      <th>Elevation_gain</th>\n",
       "      <th>Moving_time_in_seconds</th>\n",
       "      <th>Elapsed_time_in_seconds</th>\n",
       "      <th>Avg_tempo_in_seconds</th>\n",
       "      <th>Rest_time_in_seconds</th>\n",
       "      <th>Rest_percentage</th>\n",
       "    </tr>\n",
       "  </thead>\n",
       "  <tbody>\n",
       "    <tr>\n",
       "      <th>0</th>\n",
       "      <td>2021-10-29</td>\n",
       "      <td>6.08</td>\n",
       "      <td>168.0</td>\n",
       "      <td>102.0</td>\n",
       "      <td>1884.0</td>\n",
       "      <td>1950.0</td>\n",
       "      <td>309.87</td>\n",
       "      <td>66.0</td>\n",
       "      <td>3.38</td>\n",
       "    </tr>\n",
       "    <tr>\n",
       "      <th>1</th>\n",
       "      <td>2021-10-08</td>\n",
       "      <td>6.04</td>\n",
       "      <td>170.0</td>\n",
       "      <td>104.0</td>\n",
       "      <td>1817.0</td>\n",
       "      <td>1886.0</td>\n",
       "      <td>300.83</td>\n",
       "      <td>69.0</td>\n",
       "      <td>3.66</td>\n",
       "    </tr>\n",
       "    <tr>\n",
       "      <th>2</th>\n",
       "      <td>2021-10-07</td>\n",
       "      <td>4.46</td>\n",
       "      <td>169.0</td>\n",
       "      <td>89.0</td>\n",
       "      <td>1394.0</td>\n",
       "      <td>1439.0</td>\n",
       "      <td>312.56</td>\n",
       "      <td>45.0</td>\n",
       "      <td>3.13</td>\n",
       "    </tr>\n",
       "  </tbody>\n",
       "</table>\n",
       "</div>"
      ],
      "text/plain": [
       "        Date  Distance  Avg_running_rythm  Elevation_gain  \\\n",
       "0 2021-10-29      6.08              168.0           102.0   \n",
       "1 2021-10-08      6.04              170.0           104.0   \n",
       "2 2021-10-07      4.46              169.0            89.0   \n",
       "\n",
       "   Moving_time_in_seconds  Elapsed_time_in_seconds  Avg_tempo_in_seconds  \\\n",
       "0                  1884.0                   1950.0                309.87   \n",
       "1                  1817.0                   1886.0                300.83   \n",
       "2                  1394.0                   1439.0                312.56   \n",
       "\n",
       "   Rest_time_in_seconds  Rest_percentage  \n",
       "0                  66.0             3.38  \n",
       "1                  69.0             3.66  \n",
       "2                  45.0             3.13  "
      ]
     },
     "execution_count": 23,
     "metadata": {},
     "output_type": "execute_result"
    }
   ],
   "source": [
    "df.head(3)"
   ]
  },
  {
   "cell_type": "markdown",
   "id": "4335a510",
   "metadata": {},
   "source": [
    "<br>Now, when I recalculated all the columns, I want to categorize all my runs by their <b>distance</b> and <b>elevation gain.</b><br>\n",
    "I want to divide them into <b>long (more then 10km)</b> and <b>short(<10km)</b> runs and whether they were <b>flat (up to 70m elevation gain )</b>, <b>hills (71m - 180m elevation gain )</b> or <b>mountains (> 180m elevation gain )</b>. <br><br>\n",
    "To do this, I will apply below funcions which return the correct category.\n",
    "</b><br>"
   ]
  },
  {
   "cell_type": "code",
   "execution_count": 24,
   "id": "699dd015",
   "metadata": {},
   "outputs": [],
   "source": [
    "def distance_category(distance):\n",
    "    if distance > 10:\n",
    "        return \"long\"\n",
    "    else:\n",
    "        return 'short'"
   ]
  },
  {
   "cell_type": "code",
   "execution_count": 25,
   "id": "cb7791b1",
   "metadata": {},
   "outputs": [],
   "source": [
    "def elevation_category(elevation):\n",
    "    if elevation <= 70:\n",
    "        return 'flat'\n",
    "    elif elevation >= 71 and elevation < 180:\n",
    "        return 'hills'\n",
    "    else:\n",
    "        return 'mountains'"
   ]
  },
  {
   "cell_type": "code",
   "execution_count": 26,
   "id": "e5666daa",
   "metadata": {},
   "outputs": [],
   "source": [
    "df['Distance_category'] = df['Distance'].apply(lambda x: distance_category(x))"
   ]
  },
  {
   "cell_type": "code",
   "execution_count": 27,
   "id": "dcbe88a4",
   "metadata": {
    "scrolled": true
   },
   "outputs": [],
   "source": [
    "df['Elevation_category'] = df['Elevation_gain'].apply(lambda x: elevation_category(x))"
   ]
  },
  {
   "cell_type": "markdown",
   "id": "90187986",
   "metadata": {},
   "source": [
    "<br>I will also add column 'year' and 'month' so I could see how my activities and results looked throughout the time. \n",
    "<br><br>"
   ]
  },
  {
   "cell_type": "code",
   "execution_count": 28,
   "id": "2e280480",
   "metadata": {},
   "outputs": [],
   "source": [
    "df['Year'] = pd.DatetimeIndex(df['Date']).year\n",
    "df['Month'] = pd.DatetimeIndex(df['Date']).month"
   ]
  },
  {
   "cell_type": "code",
   "execution_count": 29,
   "id": "67b6580c",
   "metadata": {},
   "outputs": [],
   "source": [
    "df['Year_month'] = df_oryginal.Data.str.extract('(\\d{4}.\\d{2})', expand = False)"
   ]
  },
  {
   "cell_type": "code",
   "execution_count": 30,
   "id": "1257bfd2",
   "metadata": {},
   "outputs": [
    {
     "data": {
      "text/html": [
       "<div>\n",
       "<style scoped>\n",
       "    .dataframe tbody tr th:only-of-type {\n",
       "        vertical-align: middle;\n",
       "    }\n",
       "\n",
       "    .dataframe tbody tr th {\n",
       "        vertical-align: top;\n",
       "    }\n",
       "\n",
       "    .dataframe thead th {\n",
       "        text-align: right;\n",
       "    }\n",
       "</style>\n",
       "<table border=\"1\" class=\"dataframe\">\n",
       "  <thead>\n",
       "    <tr style=\"text-align: right;\">\n",
       "      <th></th>\n",
       "      <th>Date</th>\n",
       "      <th>Distance</th>\n",
       "      <th>Avg_running_rythm</th>\n",
       "      <th>Elevation_gain</th>\n",
       "      <th>Moving_time_in_seconds</th>\n",
       "      <th>Elapsed_time_in_seconds</th>\n",
       "      <th>Avg_tempo_in_seconds</th>\n",
       "      <th>Rest_time_in_seconds</th>\n",
       "      <th>Rest_percentage</th>\n",
       "      <th>Distance_category</th>\n",
       "      <th>Elevation_category</th>\n",
       "      <th>Year</th>\n",
       "      <th>Month</th>\n",
       "      <th>Year_month</th>\n",
       "    </tr>\n",
       "  </thead>\n",
       "  <tbody>\n",
       "    <tr>\n",
       "      <th>0</th>\n",
       "      <td>2021-10-29</td>\n",
       "      <td>6.08</td>\n",
       "      <td>168.0</td>\n",
       "      <td>102.0</td>\n",
       "      <td>1884.0</td>\n",
       "      <td>1950.0</td>\n",
       "      <td>309.87</td>\n",
       "      <td>66.0</td>\n",
       "      <td>3.38</td>\n",
       "      <td>short</td>\n",
       "      <td>hills</td>\n",
       "      <td>2021</td>\n",
       "      <td>10</td>\n",
       "      <td>2021-10</td>\n",
       "    </tr>\n",
       "    <tr>\n",
       "      <th>1</th>\n",
       "      <td>2021-10-08</td>\n",
       "      <td>6.04</td>\n",
       "      <td>170.0</td>\n",
       "      <td>104.0</td>\n",
       "      <td>1817.0</td>\n",
       "      <td>1886.0</td>\n",
       "      <td>300.83</td>\n",
       "      <td>69.0</td>\n",
       "      <td>3.66</td>\n",
       "      <td>short</td>\n",
       "      <td>hills</td>\n",
       "      <td>2021</td>\n",
       "      <td>10</td>\n",
       "      <td>2021-10</td>\n",
       "    </tr>\n",
       "    <tr>\n",
       "      <th>2</th>\n",
       "      <td>2021-10-07</td>\n",
       "      <td>4.46</td>\n",
       "      <td>169.0</td>\n",
       "      <td>89.0</td>\n",
       "      <td>1394.0</td>\n",
       "      <td>1439.0</td>\n",
       "      <td>312.56</td>\n",
       "      <td>45.0</td>\n",
       "      <td>3.13</td>\n",
       "      <td>short</td>\n",
       "      <td>hills</td>\n",
       "      <td>2021</td>\n",
       "      <td>10</td>\n",
       "      <td>2021-10</td>\n",
       "    </tr>\n",
       "    <tr>\n",
       "      <th>3</th>\n",
       "      <td>2021-10-07</td>\n",
       "      <td>1.17</td>\n",
       "      <td>168.0</td>\n",
       "      <td>0.0</td>\n",
       "      <td>356.0</td>\n",
       "      <td>361.0</td>\n",
       "      <td>304.27</td>\n",
       "      <td>5.0</td>\n",
       "      <td>1.39</td>\n",
       "      <td>short</td>\n",
       "      <td>flat</td>\n",
       "      <td>2021</td>\n",
       "      <td>10</td>\n",
       "      <td>2021-10</td>\n",
       "    </tr>\n",
       "    <tr>\n",
       "      <th>4</th>\n",
       "      <td>2021-09-24</td>\n",
       "      <td>5.02</td>\n",
       "      <td>175.0</td>\n",
       "      <td>2.0</td>\n",
       "      <td>1323.0</td>\n",
       "      <td>1327.0</td>\n",
       "      <td>263.55</td>\n",
       "      <td>4.0</td>\n",
       "      <td>0.30</td>\n",
       "      <td>short</td>\n",
       "      <td>flat</td>\n",
       "      <td>2021</td>\n",
       "      <td>9</td>\n",
       "      <td>2021-09</td>\n",
       "    </tr>\n",
       "  </tbody>\n",
       "</table>\n",
       "</div>"
      ],
      "text/plain": [
       "        Date  Distance  Avg_running_rythm  Elevation_gain  \\\n",
       "0 2021-10-29      6.08              168.0           102.0   \n",
       "1 2021-10-08      6.04              170.0           104.0   \n",
       "2 2021-10-07      4.46              169.0            89.0   \n",
       "3 2021-10-07      1.17              168.0             0.0   \n",
       "4 2021-09-24      5.02              175.0             2.0   \n",
       "\n",
       "   Moving_time_in_seconds  Elapsed_time_in_seconds  Avg_tempo_in_seconds  \\\n",
       "0                  1884.0                   1950.0                309.87   \n",
       "1                  1817.0                   1886.0                300.83   \n",
       "2                  1394.0                   1439.0                312.56   \n",
       "3                   356.0                    361.0                304.27   \n",
       "4                  1323.0                   1327.0                263.55   \n",
       "\n",
       "   Rest_time_in_seconds  Rest_percentage Distance_category Elevation_category  \\\n",
       "0                  66.0             3.38             short              hills   \n",
       "1                  69.0             3.66             short              hills   \n",
       "2                  45.0             3.13             short              hills   \n",
       "3                   5.0             1.39             short               flat   \n",
       "4                   4.0             0.30             short               flat   \n",
       "\n",
       "   Year  Month Year_month  \n",
       "0  2021     10    2021-10  \n",
       "1  2021     10    2021-10  \n",
       "2  2021     10    2021-10  \n",
       "3  2021     10    2021-10  \n",
       "4  2021      9    2021-09  "
      ]
     },
     "execution_count": 30,
     "metadata": {},
     "output_type": "execute_result"
    }
   ],
   "source": [
    "df.head()"
   ]
  },
  {
   "cell_type": "code",
   "execution_count": 31,
   "id": "b6b8deb4",
   "metadata": {},
   "outputs": [
    {
     "name": "stdout",
     "output_type": "stream",
     "text": [
      "<class 'pandas.core.frame.DataFrame'>\n",
      "Int64Index: 175 entries, 0 to 181\n",
      "Data columns (total 14 columns):\n",
      " #   Column                   Non-Null Count  Dtype         \n",
      "---  ------                   --------------  -----         \n",
      " 0   Date                     175 non-null    datetime64[ns]\n",
      " 1   Distance                 175 non-null    float64       \n",
      " 2   Avg_running_rythm        175 non-null    float64       \n",
      " 3   Elevation_gain           175 non-null    float64       \n",
      " 4   Moving_time_in_seconds   175 non-null    float64       \n",
      " 5   Elapsed_time_in_seconds  175 non-null    float64       \n",
      " 6   Avg_tempo_in_seconds     175 non-null    float64       \n",
      " 7   Rest_time_in_seconds     175 non-null    float64       \n",
      " 8   Rest_percentage          175 non-null    float64       \n",
      " 9   Distance_category        175 non-null    object        \n",
      " 10  Elevation_category       175 non-null    object        \n",
      " 11  Year                     175 non-null    int64         \n",
      " 12  Month                    175 non-null    int64         \n",
      " 13  Year_month               175 non-null    object        \n",
      "dtypes: datetime64[ns](1), float64(8), int64(2), object(3)\n",
      "memory usage: 20.5+ KB\n"
     ]
    }
   ],
   "source": [
    "df.info()"
   ]
  },
  {
   "cell_type": "markdown",
   "id": "9f6c989e",
   "metadata": {},
   "source": [
    "<br>Everything seems to look ok now. I have all the numercis values as floats64, date is in the right format and all rows are categorized. In the next step I would like to add weather data, as I wanted to examine if it has big impact on my sport performance or not. I would also like to check how much my motivation for running decreases when temperature goes down.\n",
    "<br><br>"
   ]
  },
  {
   "cell_type": "markdown",
   "id": "90ea82dd",
   "metadata": {},
   "source": [
    "### Part 2. Weather"
   ]
  },
  {
   "cell_type": "markdown",
   "id": "32d34e77",
   "metadata": {},
   "source": [
    "<br>Weather data has been downloaded from https://visualcrossing.com . I will use only Kraków as a location as the vast majority of my runs took place in that city or very close around. As in the above part, I will use Pandas library to clean the data and then join it with activities Data Frame. \n",
    "<br><br>"
   ]
  },
  {
   "cell_type": "code",
   "execution_count": 32,
   "id": "92b5231b",
   "metadata": {
    "scrolled": true
   },
   "outputs": [
    {
     "data": {
      "text/html": [
       "<div>\n",
       "<style scoped>\n",
       "    .dataframe tbody tr th:only-of-type {\n",
       "        vertical-align: middle;\n",
       "    }\n",
       "\n",
       "    .dataframe tbody tr th {\n",
       "        vertical-align: top;\n",
       "    }\n",
       "\n",
       "    .dataframe thead th {\n",
       "        text-align: right;\n",
       "    }\n",
       "</style>\n",
       "<table border=\"1\" class=\"dataframe\">\n",
       "  <thead>\n",
       "    <tr style=\"text-align: right;\">\n",
       "      <th></th>\n",
       "      <th>name</th>\n",
       "      <th>datetime</th>\n",
       "      <th>tempmax</th>\n",
       "      <th>tempmin</th>\n",
       "      <th>temp</th>\n",
       "      <th>feelslikemax</th>\n",
       "      <th>feelslikemin</th>\n",
       "      <th>feelslike</th>\n",
       "      <th>dew</th>\n",
       "      <th>humidity</th>\n",
       "      <th>precip</th>\n",
       "      <th>precipprob</th>\n",
       "      <th>precipcover</th>\n",
       "      <th>preciptype</th>\n",
       "      <th>snow</th>\n",
       "      <th>snowdepth</th>\n",
       "      <th>windgust</th>\n",
       "      <th>windspeed</th>\n",
       "      <th>winddir</th>\n",
       "      <th>sealevelpressure</th>\n",
       "      <th>cloudcover</th>\n",
       "      <th>visibility</th>\n",
       "      <th>solarradiation</th>\n",
       "      <th>solarenergy</th>\n",
       "      <th>uvindex</th>\n",
       "      <th>severerisk</th>\n",
       "      <th>sunrise</th>\n",
       "      <th>sunset</th>\n",
       "      <th>moonphase</th>\n",
       "      <th>conditions</th>\n",
       "      <th>description</th>\n",
       "      <th>icon</th>\n",
       "      <th>stations</th>\n",
       "    </tr>\n",
       "  </thead>\n",
       "  <tbody>\n",
       "    <tr>\n",
       "      <th>0</th>\n",
       "      <td>Kraków</td>\n",
       "      <td>2019-07-01</td>\n",
       "      <td>35.1</td>\n",
       "      <td>17.1</td>\n",
       "      <td>26.6</td>\n",
       "      <td>34.6</td>\n",
       "      <td>17.1</td>\n",
       "      <td>26.4</td>\n",
       "      <td>14.0</td>\n",
       "      <td>49.24</td>\n",
       "      <td>0.1</td>\n",
       "      <td>NaN</td>\n",
       "      <td>4.17</td>\n",
       "      <td>NaN</td>\n",
       "      <td>NaN</td>\n",
       "      <td>NaN</td>\n",
       "      <td>76.4</td>\n",
       "      <td>51.7</td>\n",
       "      <td>233.4</td>\n",
       "      <td>1012.7</td>\n",
       "      <td>35.5</td>\n",
       "      <td>24.3</td>\n",
       "      <td>NaN</td>\n",
       "      <td>NaN</td>\n",
       "      <td>0</td>\n",
       "      <td>NaN</td>\n",
       "      <td>2019-07-01T04:34:46</td>\n",
       "      <td>2019-07-01T20:53:06</td>\n",
       "      <td>0.99</td>\n",
       "      <td>Rain, Partially cloudy</td>\n",
       "      <td>Partly cloudy throughout the day with late aft...</td>\n",
       "      <td>rain</td>\n",
       "      <td>12575099999,12566099999,12660099999,1191809999...</td>\n",
       "    </tr>\n",
       "    <tr>\n",
       "      <th>1</th>\n",
       "      <td>Kraków</td>\n",
       "      <td>2019-07-02</td>\n",
       "      <td>26.0</td>\n",
       "      <td>18.3</td>\n",
       "      <td>22.4</td>\n",
       "      <td>26.0</td>\n",
       "      <td>18.3</td>\n",
       "      <td>22.4</td>\n",
       "      <td>13.1</td>\n",
       "      <td>58.69</td>\n",
       "      <td>0.2</td>\n",
       "      <td>NaN</td>\n",
       "      <td>4.17</td>\n",
       "      <td>NaN</td>\n",
       "      <td>NaN</td>\n",
       "      <td>NaN</td>\n",
       "      <td>83.2</td>\n",
       "      <td>34.8</td>\n",
       "      <td>275.8</td>\n",
       "      <td>1015.4</td>\n",
       "      <td>48.7</td>\n",
       "      <td>24.5</td>\n",
       "      <td>NaN</td>\n",
       "      <td>NaN</td>\n",
       "      <td>0</td>\n",
       "      <td>NaN</td>\n",
       "      <td>2019-07-02T04:35:25</td>\n",
       "      <td>2019-07-02T20:52:48</td>\n",
       "      <td>1.00</td>\n",
       "      <td>Rain, Partially cloudy</td>\n",
       "      <td>Partly cloudy throughout the day with morning ...</td>\n",
       "      <td>rain</td>\n",
       "      <td>12575099999,12566099999,12660099999,1191809999...</td>\n",
       "    </tr>\n",
       "    <tr>\n",
       "      <th>2</th>\n",
       "      <td>Kraków</td>\n",
       "      <td>2019-07-03</td>\n",
       "      <td>22.1</td>\n",
       "      <td>12.2</td>\n",
       "      <td>18.0</td>\n",
       "      <td>22.1</td>\n",
       "      <td>12.2</td>\n",
       "      <td>18.0</td>\n",
       "      <td>5.8</td>\n",
       "      <td>47.03</td>\n",
       "      <td>0.0</td>\n",
       "      <td>NaN</td>\n",
       "      <td>0.00</td>\n",
       "      <td>NaN</td>\n",
       "      <td>NaN</td>\n",
       "      <td>NaN</td>\n",
       "      <td>42.0</td>\n",
       "      <td>25.0</td>\n",
       "      <td>255.8</td>\n",
       "      <td>1019.6</td>\n",
       "      <td>25.8</td>\n",
       "      <td>27.2</td>\n",
       "      <td>NaN</td>\n",
       "      <td>NaN</td>\n",
       "      <td>0</td>\n",
       "      <td>NaN</td>\n",
       "      <td>2019-07-03T04:36:07</td>\n",
       "      <td>2019-07-03T20:52:28</td>\n",
       "      <td>0.00</td>\n",
       "      <td>Partially cloudy</td>\n",
       "      <td>Partly cloudy throughout the day.</td>\n",
       "      <td>partly-cloudy-day</td>\n",
       "      <td>12575099999,12566099999,12660099999,1191809999...</td>\n",
       "    </tr>\n",
       "  </tbody>\n",
       "</table>\n",
       "</div>"
      ],
      "text/plain": [
       "     name    datetime  tempmax  tempmin  temp  feelslikemax  feelslikemin  \\\n",
       "0  Kraków  2019-07-01     35.1     17.1  26.6          34.6          17.1   \n",
       "1  Kraków  2019-07-02     26.0     18.3  22.4          26.0          18.3   \n",
       "2  Kraków  2019-07-03     22.1     12.2  18.0          22.1          12.2   \n",
       "\n",
       "   feelslike   dew  humidity  precip  precipprob  precipcover  preciptype  \\\n",
       "0       26.4  14.0     49.24     0.1         NaN         4.17         NaN   \n",
       "1       22.4  13.1     58.69     0.2         NaN         4.17         NaN   \n",
       "2       18.0   5.8     47.03     0.0         NaN         0.00         NaN   \n",
       "\n",
       "   snow  snowdepth  windgust  windspeed  winddir  sealevelpressure  \\\n",
       "0   NaN        NaN      76.4       51.7    233.4            1012.7   \n",
       "1   NaN        NaN      83.2       34.8    275.8            1015.4   \n",
       "2   NaN        NaN      42.0       25.0    255.8            1019.6   \n",
       "\n",
       "   cloudcover  visibility  solarradiation  solarenergy  uvindex  severerisk  \\\n",
       "0        35.5        24.3             NaN          NaN        0         NaN   \n",
       "1        48.7        24.5             NaN          NaN        0         NaN   \n",
       "2        25.8        27.2             NaN          NaN        0         NaN   \n",
       "\n",
       "               sunrise               sunset  moonphase  \\\n",
       "0  2019-07-01T04:34:46  2019-07-01T20:53:06       0.99   \n",
       "1  2019-07-02T04:35:25  2019-07-02T20:52:48       1.00   \n",
       "2  2019-07-03T04:36:07  2019-07-03T20:52:28       0.00   \n",
       "\n",
       "               conditions                                        description  \\\n",
       "0  Rain, Partially cloudy  Partly cloudy throughout the day with late aft...   \n",
       "1  Rain, Partially cloudy  Partly cloudy throughout the day with morning ...   \n",
       "2        Partially cloudy                  Partly cloudy throughout the day.   \n",
       "\n",
       "                icon                                           stations  \n",
       "0               rain  12575099999,12566099999,12660099999,1191809999...  \n",
       "1               rain  12575099999,12566099999,12660099999,1191809999...  \n",
       "2  partly-cloudy-day  12575099999,12566099999,12660099999,1191809999...  "
      ]
     },
     "execution_count": 32,
     "metadata": {},
     "output_type": "execute_result"
    }
   ],
   "source": [
    "# data has already been loaded in the 'Loading data' section on top of that notebook\n",
    "\n",
    "df_w_oryginal.head(3)"
   ]
  },
  {
   "cell_type": "markdown",
   "id": "ced0e116",
   "metadata": {},
   "source": [
    "<br>I'm only interested in date and temperature in above Data Frame. I will use the average temperature for each day based on tempmax and tempmin.\n",
    "<br>\n"
   ]
  },
  {
   "cell_type": "code",
   "execution_count": 33,
   "id": "0569f896",
   "metadata": {},
   "outputs": [],
   "source": [
    "# creating new df only with required columns\n",
    "df_w_oryginal['temp_avg'] = (df_w_oryginal['tempmax'] + df_w_oryginal['tempmin']) / 2\n",
    "df_w = df_w_oryginal[['datetime', 'temp_avg']]"
   ]
  },
  {
   "cell_type": "code",
   "execution_count": 34,
   "id": "ccd526a9",
   "metadata": {},
   "outputs": [],
   "source": [
    "# I'll change columns names (datetime -> 'date' and icon -> 'conditions') and date format to the correct one\n",
    "\n",
    "df_w = df_w.rename(columns={'datetime': 'Date', 'temp_avg': 'Temp_avg'})\n",
    "df_w['Date'] = pd.to_datetime(df_w['Date'])"
   ]
  },
  {
   "cell_type": "code",
   "execution_count": 35,
   "id": "dc47eece",
   "metadata": {},
   "outputs": [
    {
     "data": {
      "text/html": [
       "<div>\n",
       "<style scoped>\n",
       "    .dataframe tbody tr th:only-of-type {\n",
       "        vertical-align: middle;\n",
       "    }\n",
       "\n",
       "    .dataframe tbody tr th {\n",
       "        vertical-align: top;\n",
       "    }\n",
       "\n",
       "    .dataframe thead th {\n",
       "        text-align: right;\n",
       "    }\n",
       "</style>\n",
       "<table border=\"1\" class=\"dataframe\">\n",
       "  <thead>\n",
       "    <tr style=\"text-align: right;\">\n",
       "      <th></th>\n",
       "      <th>Date</th>\n",
       "      <th>Temp_avg</th>\n",
       "    </tr>\n",
       "  </thead>\n",
       "  <tbody>\n",
       "    <tr>\n",
       "      <th>0</th>\n",
       "      <td>2019-07-01</td>\n",
       "      <td>26.10</td>\n",
       "    </tr>\n",
       "    <tr>\n",
       "      <th>1</th>\n",
       "      <td>2019-07-02</td>\n",
       "      <td>22.15</td>\n",
       "    </tr>\n",
       "    <tr>\n",
       "      <th>2</th>\n",
       "      <td>2019-07-03</td>\n",
       "      <td>17.15</td>\n",
       "    </tr>\n",
       "    <tr>\n",
       "      <th>3</th>\n",
       "      <td>2019-07-04</td>\n",
       "      <td>15.85</td>\n",
       "    </tr>\n",
       "    <tr>\n",
       "      <th>4</th>\n",
       "      <td>2019-07-05</td>\n",
       "      <td>16.60</td>\n",
       "    </tr>\n",
       "  </tbody>\n",
       "</table>\n",
       "</div>"
      ],
      "text/plain": [
       "        Date  Temp_avg\n",
       "0 2019-07-01     26.10\n",
       "1 2019-07-02     22.15\n",
       "2 2019-07-03     17.15\n",
       "3 2019-07-04     15.85\n",
       "4 2019-07-05     16.60"
      ]
     },
     "execution_count": 35,
     "metadata": {},
     "output_type": "execute_result"
    }
   ],
   "source": [
    "df_w.head()"
   ]
  },
  {
   "cell_type": "code",
   "execution_count": 36,
   "id": "6b7e5bff",
   "metadata": {
    "scrolled": true
   },
   "outputs": [
    {
     "name": "stdout",
     "output_type": "stream",
     "text": [
      "<class 'pandas.core.frame.DataFrame'>\n",
      "RangeIndex: 885 entries, 0 to 884\n",
      "Data columns (total 2 columns):\n",
      " #   Column    Non-Null Count  Dtype         \n",
      "---  ------    --------------  -----         \n",
      " 0   Date      885 non-null    datetime64[ns]\n",
      " 1   Temp_avg  885 non-null    float64       \n",
      "dtypes: datetime64[ns](1), float64(1)\n",
      "memory usage: 14.0 KB\n"
     ]
    }
   ],
   "source": [
    "df_w.info()"
   ]
  },
  {
   "cell_type": "markdown",
   "id": "751259d3",
   "metadata": {},
   "source": [
    "<br>Final Data Frame looks good and I can go to the next step where I merge them and can start performing exploratory data analysis.\n",
    "<br><br>"
   ]
  },
  {
   "cell_type": "markdown",
   "id": "588a557f",
   "metadata": {},
   "source": [
    "### Part 3. Merging data\n",
    "<br><br>"
   ]
  },
  {
   "cell_type": "code",
   "execution_count": 37,
   "id": "3c64ab89",
   "metadata": {},
   "outputs": [],
   "source": [
    "df_all = df.merge(df_w, how='left', on='Date')"
   ]
  },
  {
   "cell_type": "code",
   "execution_count": 38,
   "id": "7093735c",
   "metadata": {},
   "outputs": [
    {
     "data": {
      "text/html": [
       "<div>\n",
       "<style scoped>\n",
       "    .dataframe tbody tr th:only-of-type {\n",
       "        vertical-align: middle;\n",
       "    }\n",
       "\n",
       "    .dataframe tbody tr th {\n",
       "        vertical-align: top;\n",
       "    }\n",
       "\n",
       "    .dataframe thead th {\n",
       "        text-align: right;\n",
       "    }\n",
       "</style>\n",
       "<table border=\"1\" class=\"dataframe\">\n",
       "  <thead>\n",
       "    <tr style=\"text-align: right;\">\n",
       "      <th></th>\n",
       "      <th>Date</th>\n",
       "      <th>Distance</th>\n",
       "      <th>Avg_running_rythm</th>\n",
       "      <th>Elevation_gain</th>\n",
       "      <th>Moving_time_in_seconds</th>\n",
       "      <th>Elapsed_time_in_seconds</th>\n",
       "      <th>Avg_tempo_in_seconds</th>\n",
       "      <th>Rest_time_in_seconds</th>\n",
       "      <th>Rest_percentage</th>\n",
       "      <th>Distance_category</th>\n",
       "      <th>Elevation_category</th>\n",
       "      <th>Year</th>\n",
       "      <th>Month</th>\n",
       "      <th>Year_month</th>\n",
       "      <th>Temp_avg</th>\n",
       "    </tr>\n",
       "  </thead>\n",
       "  <tbody>\n",
       "    <tr>\n",
       "      <th>0</th>\n",
       "      <td>2021-10-29</td>\n",
       "      <td>6.08</td>\n",
       "      <td>168.0</td>\n",
       "      <td>102.0</td>\n",
       "      <td>1884.0</td>\n",
       "      <td>1950.0</td>\n",
       "      <td>309.87</td>\n",
       "      <td>66.0</td>\n",
       "      <td>3.38</td>\n",
       "      <td>short</td>\n",
       "      <td>hills</td>\n",
       "      <td>2021</td>\n",
       "      <td>10</td>\n",
       "      <td>2021-10</td>\n",
       "      <td>8.25</td>\n",
       "    </tr>\n",
       "    <tr>\n",
       "      <th>1</th>\n",
       "      <td>2021-10-08</td>\n",
       "      <td>6.04</td>\n",
       "      <td>170.0</td>\n",
       "      <td>104.0</td>\n",
       "      <td>1817.0</td>\n",
       "      <td>1886.0</td>\n",
       "      <td>300.83</td>\n",
       "      <td>69.0</td>\n",
       "      <td>3.66</td>\n",
       "      <td>short</td>\n",
       "      <td>hills</td>\n",
       "      <td>2021</td>\n",
       "      <td>10</td>\n",
       "      <td>2021-10</td>\n",
       "      <td>7.80</td>\n",
       "    </tr>\n",
       "    <tr>\n",
       "      <th>2</th>\n",
       "      <td>2021-10-07</td>\n",
       "      <td>4.46</td>\n",
       "      <td>169.0</td>\n",
       "      <td>89.0</td>\n",
       "      <td>1394.0</td>\n",
       "      <td>1439.0</td>\n",
       "      <td>312.56</td>\n",
       "      <td>45.0</td>\n",
       "      <td>3.13</td>\n",
       "      <td>short</td>\n",
       "      <td>hills</td>\n",
       "      <td>2021</td>\n",
       "      <td>10</td>\n",
       "      <td>2021-10</td>\n",
       "      <td>11.35</td>\n",
       "    </tr>\n",
       "    <tr>\n",
       "      <th>3</th>\n",
       "      <td>2021-10-07</td>\n",
       "      <td>1.17</td>\n",
       "      <td>168.0</td>\n",
       "      <td>0.0</td>\n",
       "      <td>356.0</td>\n",
       "      <td>361.0</td>\n",
       "      <td>304.27</td>\n",
       "      <td>5.0</td>\n",
       "      <td>1.39</td>\n",
       "      <td>short</td>\n",
       "      <td>flat</td>\n",
       "      <td>2021</td>\n",
       "      <td>10</td>\n",
       "      <td>2021-10</td>\n",
       "      <td>11.35</td>\n",
       "    </tr>\n",
       "    <tr>\n",
       "      <th>4</th>\n",
       "      <td>2021-09-24</td>\n",
       "      <td>5.02</td>\n",
       "      <td>175.0</td>\n",
       "      <td>2.0</td>\n",
       "      <td>1323.0</td>\n",
       "      <td>1327.0</td>\n",
       "      <td>263.55</td>\n",
       "      <td>4.0</td>\n",
       "      <td>0.30</td>\n",
       "      <td>short</td>\n",
       "      <td>flat</td>\n",
       "      <td>2021</td>\n",
       "      <td>9</td>\n",
       "      <td>2021-09</td>\n",
       "      <td>13.50</td>\n",
       "    </tr>\n",
       "  </tbody>\n",
       "</table>\n",
       "</div>"
      ],
      "text/plain": [
       "        Date  Distance  Avg_running_rythm  Elevation_gain  \\\n",
       "0 2021-10-29      6.08              168.0           102.0   \n",
       "1 2021-10-08      6.04              170.0           104.0   \n",
       "2 2021-10-07      4.46              169.0            89.0   \n",
       "3 2021-10-07      1.17              168.0             0.0   \n",
       "4 2021-09-24      5.02              175.0             2.0   \n",
       "\n",
       "   Moving_time_in_seconds  Elapsed_time_in_seconds  Avg_tempo_in_seconds  \\\n",
       "0                  1884.0                   1950.0                309.87   \n",
       "1                  1817.0                   1886.0                300.83   \n",
       "2                  1394.0                   1439.0                312.56   \n",
       "3                   356.0                    361.0                304.27   \n",
       "4                  1323.0                   1327.0                263.55   \n",
       "\n",
       "   Rest_time_in_seconds  Rest_percentage Distance_category Elevation_category  \\\n",
       "0                  66.0             3.38             short              hills   \n",
       "1                  69.0             3.66             short              hills   \n",
       "2                  45.0             3.13             short              hills   \n",
       "3                   5.0             1.39             short               flat   \n",
       "4                   4.0             0.30             short               flat   \n",
       "\n",
       "   Year  Month Year_month  Temp_avg  \n",
       "0  2021     10    2021-10      8.25  \n",
       "1  2021     10    2021-10      7.80  \n",
       "2  2021     10    2021-10     11.35  \n",
       "3  2021     10    2021-10     11.35  \n",
       "4  2021      9    2021-09     13.50  "
      ]
     },
     "execution_count": 38,
     "metadata": {},
     "output_type": "execute_result"
    }
   ],
   "source": [
    "df_all.head()"
   ]
  },
  {
   "cell_type": "markdown",
   "id": "4011544a",
   "metadata": {},
   "source": [
    "Data Frame is ready. I will send it to Excel as a source file for Power BI Dashboard."
   ]
  },
  {
   "cell_type": "code",
   "execution_count": 39,
   "id": "79c849c3",
   "metadata": {},
   "outputs": [],
   "source": [
    "df_all.to_excel('df_all.xlsx', index = None)"
   ]
  },
  {
   "cell_type": "markdown",
   "id": "cd8d2cd4",
   "metadata": {},
   "source": [
    "# ✔️ Exploratory Data Analysis"
   ]
  },
  {
   "cell_type": "markdown",
   "id": "f1f915b8",
   "metadata": {},
   "source": [
    "First, let's summarize data with Pandas function .describe() to see the general descriptive statistic."
   ]
  },
  {
   "cell_type": "code",
   "execution_count": 40,
   "id": "5df945af",
   "metadata": {
    "scrolled": true
   },
   "outputs": [
    {
     "data": {
      "text/html": [
       "<div>\n",
       "<style scoped>\n",
       "    .dataframe tbody tr th:only-of-type {\n",
       "        vertical-align: middle;\n",
       "    }\n",
       "\n",
       "    .dataframe tbody tr th {\n",
       "        vertical-align: top;\n",
       "    }\n",
       "\n",
       "    .dataframe thead th {\n",
       "        text-align: right;\n",
       "    }\n",
       "</style>\n",
       "<table border=\"1\" class=\"dataframe\">\n",
       "  <thead>\n",
       "    <tr style=\"text-align: right;\">\n",
       "      <th></th>\n",
       "      <th>Date</th>\n",
       "      <th>Distance</th>\n",
       "      <th>Avg_running_rythm</th>\n",
       "      <th>Elevation_gain</th>\n",
       "      <th>Moving_time_in_seconds</th>\n",
       "      <th>Elapsed_time_in_seconds</th>\n",
       "      <th>Avg_tempo_in_seconds</th>\n",
       "      <th>Rest_time_in_seconds</th>\n",
       "      <th>Rest_percentage</th>\n",
       "      <th>Distance_category</th>\n",
       "      <th>Elevation_category</th>\n",
       "      <th>Year</th>\n",
       "      <th>Month</th>\n",
       "      <th>Year_month</th>\n",
       "      <th>Temp_avg</th>\n",
       "    </tr>\n",
       "  </thead>\n",
       "  <tbody>\n",
       "    <tr>\n",
       "      <th>count</th>\n",
       "      <td>175</td>\n",
       "      <td>175.00</td>\n",
       "      <td>175.00</td>\n",
       "      <td>175.00</td>\n",
       "      <td>175.00</td>\n",
       "      <td>175.00</td>\n",
       "      <td>175.00</td>\n",
       "      <td>175.00</td>\n",
       "      <td>175.00</td>\n",
       "      <td>175</td>\n",
       "      <td>175</td>\n",
       "      <td>175.00</td>\n",
       "      <td>175.00</td>\n",
       "      <td>175</td>\n",
       "      <td>175.00</td>\n",
       "    </tr>\n",
       "    <tr>\n",
       "      <th>unique</th>\n",
       "      <td>NaN</td>\n",
       "      <td>NaN</td>\n",
       "      <td>NaN</td>\n",
       "      <td>NaN</td>\n",
       "      <td>NaN</td>\n",
       "      <td>NaN</td>\n",
       "      <td>NaN</td>\n",
       "      <td>NaN</td>\n",
       "      <td>NaN</td>\n",
       "      <td>2</td>\n",
       "      <td>3</td>\n",
       "      <td>NaN</td>\n",
       "      <td>NaN</td>\n",
       "      <td>25</td>\n",
       "      <td>NaN</td>\n",
       "    </tr>\n",
       "    <tr>\n",
       "      <th>top</th>\n",
       "      <td>NaN</td>\n",
       "      <td>NaN</td>\n",
       "      <td>NaN</td>\n",
       "      <td>NaN</td>\n",
       "      <td>NaN</td>\n",
       "      <td>NaN</td>\n",
       "      <td>NaN</td>\n",
       "      <td>NaN</td>\n",
       "      <td>NaN</td>\n",
       "      <td>short</td>\n",
       "      <td>flat</td>\n",
       "      <td>NaN</td>\n",
       "      <td>NaN</td>\n",
       "      <td>2020-09</td>\n",
       "      <td>NaN</td>\n",
       "    </tr>\n",
       "    <tr>\n",
       "      <th>freq</th>\n",
       "      <td>NaN</td>\n",
       "      <td>NaN</td>\n",
       "      <td>NaN</td>\n",
       "      <td>NaN</td>\n",
       "      <td>NaN</td>\n",
       "      <td>NaN</td>\n",
       "      <td>NaN</td>\n",
       "      <td>NaN</td>\n",
       "      <td>NaN</td>\n",
       "      <td>129</td>\n",
       "      <td>85</td>\n",
       "      <td>NaN</td>\n",
       "      <td>NaN</td>\n",
       "      <td>17</td>\n",
       "      <td>NaN</td>\n",
       "    </tr>\n",
       "    <tr>\n",
       "      <th>mean</th>\n",
       "      <td>2020-06-14 15:29:49.714285824</td>\n",
       "      <td>8.10</td>\n",
       "      <td>167.51</td>\n",
       "      <td>118.07</td>\n",
       "      <td>2623.83</td>\n",
       "      <td>3239.18</td>\n",
       "      <td>319.15</td>\n",
       "      <td>615.35</td>\n",
       "      <td>13.85</td>\n",
       "      <td>NaN</td>\n",
       "      <td>NaN</td>\n",
       "      <td>2019.85</td>\n",
       "      <td>7.73</td>\n",
       "      <td>NaN</td>\n",
       "      <td>12.53</td>\n",
       "    </tr>\n",
       "    <tr>\n",
       "      <th>min</th>\n",
       "      <td>2019-07-01 00:00:00</td>\n",
       "      <td>1.17</td>\n",
       "      <td>116.00</td>\n",
       "      <td>0.00</td>\n",
       "      <td>356.00</td>\n",
       "      <td>361.00</td>\n",
       "      <td>249.10</td>\n",
       "      <td>0.00</td>\n",
       "      <td>0.00</td>\n",
       "      <td>NaN</td>\n",
       "      <td>NaN</td>\n",
       "      <td>2019.00</td>\n",
       "      <td>1.00</td>\n",
       "      <td>NaN</td>\n",
       "      <td>-8.00</td>\n",
       "    </tr>\n",
       "    <tr>\n",
       "      <th>25%</th>\n",
       "      <td>2019-11-04 12:00:00</td>\n",
       "      <td>6.04</td>\n",
       "      <td>163.00</td>\n",
       "      <td>13.50</td>\n",
       "      <td>1785.50</td>\n",
       "      <td>1918.00</td>\n",
       "      <td>283.88</td>\n",
       "      <td>67.50</td>\n",
       "      <td>3.41</td>\n",
       "      <td>NaN</td>\n",
       "      <td>NaN</td>\n",
       "      <td>2019.00</td>\n",
       "      <td>6.00</td>\n",
       "      <td>NaN</td>\n",
       "      <td>6.70</td>\n",
       "    </tr>\n",
       "    <tr>\n",
       "      <th>50%</th>\n",
       "      <td>2020-08-04 00:00:00</td>\n",
       "      <td>7.03</td>\n",
       "      <td>169.00</td>\n",
       "      <td>79.00</td>\n",
       "      <td>2141.00</td>\n",
       "      <td>2452.00</td>\n",
       "      <td>304.27</td>\n",
       "      <td>214.00</td>\n",
       "      <td>9.31</td>\n",
       "      <td>NaN</td>\n",
       "      <td>NaN</td>\n",
       "      <td>2020.00</td>\n",
       "      <td>8.00</td>\n",
       "      <td>NaN</td>\n",
       "      <td>13.95</td>\n",
       "    </tr>\n",
       "    <tr>\n",
       "      <th>75%</th>\n",
       "      <td>2020-11-05 00:00:00</td>\n",
       "      <td>10.04</td>\n",
       "      <td>173.00</td>\n",
       "      <td>128.00</td>\n",
       "      <td>3160.50</td>\n",
       "      <td>4592.00</td>\n",
       "      <td>337.56</td>\n",
       "      <td>882.00</td>\n",
       "      <td>20.12</td>\n",
       "      <td>NaN</td>\n",
       "      <td>NaN</td>\n",
       "      <td>2020.00</td>\n",
       "      <td>10.00</td>\n",
       "      <td>NaN</td>\n",
       "      <td>18.60</td>\n",
       "    </tr>\n",
       "    <tr>\n",
       "      <th>max</th>\n",
       "      <td>2021-10-29 00:00:00</td>\n",
       "      <td>21.39</td>\n",
       "      <td>184.00</td>\n",
       "      <td>773.00</td>\n",
       "      <td>7480.00</td>\n",
       "      <td>14498.00</td>\n",
       "      <td>672.66</td>\n",
       "      <td>7311.00</td>\n",
       "      <td>69.50</td>\n",
       "      <td>NaN</td>\n",
       "      <td>NaN</td>\n",
       "      <td>2021.00</td>\n",
       "      <td>12.00</td>\n",
       "      <td>NaN</td>\n",
       "      <td>26.10</td>\n",
       "    </tr>\n",
       "    <tr>\n",
       "      <th>std</th>\n",
       "      <td>NaN</td>\n",
       "      <td>3.28</td>\n",
       "      <td>8.75</td>\n",
       "      <td>150.51</td>\n",
       "      <td>1282.17</td>\n",
       "      <td>1947.33</td>\n",
       "      <td>54.92</td>\n",
       "      <td>930.96</td>\n",
       "      <td>14.01</td>\n",
       "      <td>NaN</td>\n",
       "      <td>NaN</td>\n",
       "      <td>0.71</td>\n",
       "      <td>2.99</td>\n",
       "      <td>NaN</td>\n",
       "      <td>7.55</td>\n",
       "    </tr>\n",
       "  </tbody>\n",
       "</table>\n",
       "</div>"
      ],
      "text/plain": [
       "                                 Date  Distance  Avg_running_rythm  \\\n",
       "count                             175    175.00             175.00   \n",
       "unique                            NaN       NaN                NaN   \n",
       "top                               NaN       NaN                NaN   \n",
       "freq                              NaN       NaN                NaN   \n",
       "mean    2020-06-14 15:29:49.714285824      8.10             167.51   \n",
       "min               2019-07-01 00:00:00      1.17             116.00   \n",
       "25%               2019-11-04 12:00:00      6.04             163.00   \n",
       "50%               2020-08-04 00:00:00      7.03             169.00   \n",
       "75%               2020-11-05 00:00:00     10.04             173.00   \n",
       "max               2021-10-29 00:00:00     21.39             184.00   \n",
       "std                               NaN      3.28               8.75   \n",
       "\n",
       "        Elevation_gain  Moving_time_in_seconds  Elapsed_time_in_seconds  \\\n",
       "count           175.00                  175.00                   175.00   \n",
       "unique             NaN                     NaN                      NaN   \n",
       "top                NaN                     NaN                      NaN   \n",
       "freq               NaN                     NaN                      NaN   \n",
       "mean            118.07                 2623.83                  3239.18   \n",
       "min               0.00                  356.00                   361.00   \n",
       "25%              13.50                 1785.50                  1918.00   \n",
       "50%              79.00                 2141.00                  2452.00   \n",
       "75%             128.00                 3160.50                  4592.00   \n",
       "max             773.00                 7480.00                 14498.00   \n",
       "std             150.51                 1282.17                  1947.33   \n",
       "\n",
       "        Avg_tempo_in_seconds  Rest_time_in_seconds  Rest_percentage  \\\n",
       "count                 175.00                175.00           175.00   \n",
       "unique                   NaN                   NaN              NaN   \n",
       "top                      NaN                   NaN              NaN   \n",
       "freq                     NaN                   NaN              NaN   \n",
       "mean                  319.15                615.35            13.85   \n",
       "min                   249.10                  0.00             0.00   \n",
       "25%                   283.88                 67.50             3.41   \n",
       "50%                   304.27                214.00             9.31   \n",
       "75%                   337.56                882.00            20.12   \n",
       "max                   672.66               7311.00            69.50   \n",
       "std                    54.92                930.96            14.01   \n",
       "\n",
       "       Distance_category Elevation_category     Year   Month Year_month  \\\n",
       "count                175                175   175.00  175.00        175   \n",
       "unique                 2                  3      NaN     NaN         25   \n",
       "top                short               flat      NaN     NaN    2020-09   \n",
       "freq                 129                 85      NaN     NaN         17   \n",
       "mean                 NaN                NaN  2019.85    7.73        NaN   \n",
       "min                  NaN                NaN  2019.00    1.00        NaN   \n",
       "25%                  NaN                NaN  2019.00    6.00        NaN   \n",
       "50%                  NaN                NaN  2020.00    8.00        NaN   \n",
       "75%                  NaN                NaN  2020.00   10.00        NaN   \n",
       "max                  NaN                NaN  2021.00   12.00        NaN   \n",
       "std                  NaN                NaN     0.71    2.99        NaN   \n",
       "\n",
       "        Temp_avg  \n",
       "count     175.00  \n",
       "unique       NaN  \n",
       "top          NaN  \n",
       "freq         NaN  \n",
       "mean       12.53  \n",
       "min        -8.00  \n",
       "25%         6.70  \n",
       "50%        13.95  \n",
       "75%        18.60  \n",
       "max        26.10  \n",
       "std         7.55  "
      ]
     },
     "execution_count": 40,
     "metadata": {},
     "output_type": "execute_result"
    }
   ],
   "source": [
    "df_all.describe(include='all', datetime_is_numeric =True)"
   ]
  },
  {
   "cell_type": "markdown",
   "id": "b71f4e4c",
   "metadata": {},
   "source": [
    "<br>\n",
    "At the beggining, I would like to check how many runs I've compleated based on their categories.\n",
    "<br><br>"
   ]
  },
  {
   "cell_type": "code",
   "execution_count": 41,
   "id": "97b0928b",
   "metadata": {},
   "outputs": [],
   "source": [
    "df_runs_count = df_all[['Distance_category', 'Elevation_category','Avg_tempo_in_seconds']]\n",
    "df_runs_count_group = df_runs_count.groupby(['Distance_category', 'Elevation_category'], as_index=False).count()"
   ]
  },
  {
   "cell_type": "code",
   "execution_count": 42,
   "id": "49d026d7",
   "metadata": {},
   "outputs": [
    {
     "data": {
      "text/plain": [
       "<function matplotlib.pyplot.show(close=None, block=None)>"
      ]
     },
     "execution_count": 42,
     "metadata": {},
     "output_type": "execute_result"
    },
    {
     "data": {
      "image/png": "[encoded data removed]",
      "text/plain": [
       "<Figure size 720x504 with 1 Axes>"
      ]
     },
     "metadata": {},
     "output_type": "display_data"
    }
   ],
   "source": [
    "sns.set_theme()\n",
    "fig_dims = (10, 7)\n",
    "fig,ax = plt.subplots(figsize=fig_dims)\n",
    "sns.barplot(x=\"Elevation_category\", y=\"Avg_tempo_in_seconds\", hue = 'Distance_category', data=df_runs_count_group,\n",
    "                 palette=\"Blues_d\", ax=ax)\n",
    "ax.set(xlabel = 'Categories', ylabel = 'Count', title = \"Count of runs for each category\")\n",
    "plt.show"
   ]
  },
  {
   "cell_type": "markdown",
   "id": "7ecc5fdc",
   "metadata": {},
   "source": [
    "<br>\n",
    "As can be seen above, most of my runs were short and in the flattened area. Not so much less took place in hilly terrain. Now let's check what was the average distance and tempo for these runs.\n",
    "<br><br>"
   ]
  },
  {
   "cell_type": "code",
   "execution_count": 43,
   "id": "22a9faf0",
   "metadata": {},
   "outputs": [],
   "source": [
    "# function that will cover time_in_seconds into common format when it comes to displaying tempo (for example 5:31 / km)\n",
    "\n",
    "def seconds_to_timedelta(secs):\n",
    "    from datetime import timedelta\n",
    "    td = timedelta(seconds=round(secs))\n",
    "    minutes, seconds = divmod(td.seconds + td.days * 86400, 60)\n",
    "    hours, minutes = divmod(minutes, 60)\n",
    "    return '{:02d}:{:02d}'.format(minutes, seconds)\n"
   ]
  },
  {
   "cell_type": "code",
   "execution_count": 44,
   "id": "6a25bc13",
   "metadata": {},
   "outputs": [],
   "source": [
    "# creating new Data Frame for average tempo values\n",
    "\n",
    "df_runs_mean_group = df_runs_count.groupby(['Distance_category', 'Elevation_category'], as_index=False).mean()"
   ]
  },
  {
   "cell_type": "code",
   "execution_count": 45,
   "id": "67a45ae8",
   "metadata": {
    "scrolled": true
   },
   "outputs": [
    {
     "data": {
      "text/html": [
       "<div>\n",
       "<style scoped>\n",
       "    .dataframe tbody tr th:only-of-type {\n",
       "        vertical-align: middle;\n",
       "    }\n",
       "\n",
       "    .dataframe tbody tr th {\n",
       "        vertical-align: top;\n",
       "    }\n",
       "\n",
       "    .dataframe thead th {\n",
       "        text-align: right;\n",
       "    }\n",
       "</style>\n",
       "<table border=\"1\" class=\"dataframe\">\n",
       "  <thead>\n",
       "    <tr style=\"text-align: right;\">\n",
       "      <th></th>\n",
       "      <th>Distance_category</th>\n",
       "      <th>Elevation_category</th>\n",
       "      <th>Avg_tempo_in_seconds</th>\n",
       "      <th>Avg_real_temp</th>\n",
       "    </tr>\n",
       "  </thead>\n",
       "  <tbody>\n",
       "    <tr>\n",
       "      <th>0</th>\n",
       "      <td>long</td>\n",
       "      <td>flat</td>\n",
       "      <td>298.29</td>\n",
       "      <td>04:58</td>\n",
       "    </tr>\n",
       "    <tr>\n",
       "      <th>1</th>\n",
       "      <td>long</td>\n",
       "      <td>hills</td>\n",
       "      <td>326.36</td>\n",
       "      <td>05:26</td>\n",
       "    </tr>\n",
       "    <tr>\n",
       "      <th>2</th>\n",
       "      <td>long</td>\n",
       "      <td>mountains</td>\n",
       "      <td>383.49</td>\n",
       "      <td>06:23</td>\n",
       "    </tr>\n",
       "    <tr>\n",
       "      <th>3</th>\n",
       "      <td>short</td>\n",
       "      <td>flat</td>\n",
       "      <td>306.38</td>\n",
       "      <td>05:06</td>\n",
       "    </tr>\n",
       "    <tr>\n",
       "      <th>4</th>\n",
       "      <td>short</td>\n",
       "      <td>hills</td>\n",
       "      <td>309.79</td>\n",
       "      <td>05:10</td>\n",
       "    </tr>\n",
       "    <tr>\n",
       "      <th>5</th>\n",
       "      <td>short</td>\n",
       "      <td>mountains</td>\n",
       "      <td>339.22</td>\n",
       "      <td>05:39</td>\n",
       "    </tr>\n",
       "  </tbody>\n",
       "</table>\n",
       "</div>"
      ],
      "text/plain": [
       "  Distance_category Elevation_category  Avg_tempo_in_seconds Avg_real_temp\n",
       "0              long               flat                298.29         04:58\n",
       "1              long              hills                326.36         05:26\n",
       "2              long          mountains                383.49         06:23\n",
       "3             short               flat                306.38         05:06\n",
       "4             short              hills                309.79         05:10\n",
       "5             short          mountains                339.22         05:39"
      ]
     },
     "execution_count": 45,
     "metadata": {},
     "output_type": "execute_result"
    }
   ],
   "source": [
    "df_runs_mean_group['Avg_real_temp'] = df_runs_mean_group['Avg_tempo_in_seconds'].apply(lambda x: seconds_to_timedelta(x))\n",
    "df_runs_mean_group"
   ]
  },
  {
   "cell_type": "code",
   "execution_count": 46,
   "id": "4b828d44",
   "metadata": {},
   "outputs": [
    {
     "data": {
      "text/plain": [
       "<function matplotlib.pyplot.show(close=None, block=None)>"
      ]
     },
     "execution_count": 46,
     "metadata": {},
     "output_type": "execute_result"
    },
    {
     "data": {
      "image/png": "[encoded data removed]",
      "text/plain": [
       "<Figure size 720x504 with 1 Axes>"
      ]
     },
     "metadata": {},
     "output_type": "display_data"
    }
   ],
   "source": [
    "fig,ax = plt.subplots(figsize=fig_dims)\n",
    "sns.barplot(x=\"Elevation_category\", y=\"Avg_tempo_in_seconds\", hue = 'Distance_category', data=df_runs_mean_group,\n",
    "                 palette=\"Blues_d\", ax=ax)\n",
    "ax.set(xlabel = 'Categories', ylabel = 'Average tempo', title = \"Average tempo for each category\")\n",
    "plt.show"
   ]
  },
  {
   "cell_type": "markdown",
   "id": "d041bbca",
   "metadata": {},
   "source": [
    "<br>\n",
    "The best average tempo I get on the short runs is in hilly terrain which seems interesting, as usually the flatter the road is the faster one can run. But becasue I live in the hilly area and train here on a daily basic, that make sense.\n",
    "<br><br>"
   ]
  },
  {
   "cell_type": "code",
   "execution_count": 47,
   "id": "04c4d3ca",
   "metadata": {},
   "outputs": [
    {
     "data": {
      "text/html": [
       "<div>\n",
       "<style scoped>\n",
       "    .dataframe tbody tr th:only-of-type {\n",
       "        vertical-align: middle;\n",
       "    }\n",
       "\n",
       "    .dataframe tbody tr th {\n",
       "        vertical-align: top;\n",
       "    }\n",
       "\n",
       "    .dataframe thead th {\n",
       "        text-align: right;\n",
       "    }\n",
       "</style>\n",
       "<table border=\"1\" class=\"dataframe\">\n",
       "  <thead>\n",
       "    <tr style=\"text-align: right;\">\n",
       "      <th></th>\n",
       "      <th>Distance_category</th>\n",
       "      <th>Elevation_category</th>\n",
       "      <th>Distance</th>\n",
       "    </tr>\n",
       "  </thead>\n",
       "  <tbody>\n",
       "    <tr>\n",
       "      <th>0</th>\n",
       "      <td>long</td>\n",
       "      <td>flat</td>\n",
       "      <td>12.17</td>\n",
       "    </tr>\n",
       "    <tr>\n",
       "      <th>1</th>\n",
       "      <td>long</td>\n",
       "      <td>hills</td>\n",
       "      <td>12.61</td>\n",
       "    </tr>\n",
       "    <tr>\n",
       "      <th>2</th>\n",
       "      <td>long</td>\n",
       "      <td>mountains</td>\n",
       "      <td>12.89</td>\n",
       "    </tr>\n",
       "    <tr>\n",
       "      <th>3</th>\n",
       "      <td>short</td>\n",
       "      <td>flat</td>\n",
       "      <td>6.33</td>\n",
       "    </tr>\n",
       "    <tr>\n",
       "      <th>4</th>\n",
       "      <td>short</td>\n",
       "      <td>hills</td>\n",
       "      <td>6.48</td>\n",
       "    </tr>\n",
       "    <tr>\n",
       "      <th>5</th>\n",
       "      <td>short</td>\n",
       "      <td>mountains</td>\n",
       "      <td>8.22</td>\n",
       "    </tr>\n",
       "  </tbody>\n",
       "</table>\n",
       "</div>"
      ],
      "text/plain": [
       "  Distance_category Elevation_category  Distance\n",
       "0              long               flat     12.17\n",
       "1              long              hills     12.61\n",
       "2              long          mountains     12.89\n",
       "3             short               flat      6.33\n",
       "4             short              hills      6.48\n",
       "5             short          mountains      8.22"
      ]
     },
     "execution_count": 47,
     "metadata": {},
     "output_type": "execute_result"
    }
   ],
   "source": [
    "# creating new Data Frame to measure average distance\n",
    "\n",
    "df_runs_avg_dist = df_all[['Distance_category', 'Elevation_category','Distance']]\n",
    "df_avg_dist_group = df_runs_avg_dist.groupby(['Distance_category', 'Elevation_category',], as_index=False).mean()\n",
    "df_avg_dist_group"
   ]
  },
  {
   "cell_type": "code",
   "execution_count": 48,
   "id": "2164d59e",
   "metadata": {},
   "outputs": [
    {
     "data": {
      "text/plain": [
       "<function matplotlib.pyplot.show(close=None, block=None)>"
      ]
     },
     "execution_count": 48,
     "metadata": {},
     "output_type": "execute_result"
    },
    {
     "data": {
      "image/png": "[encoded data removed]",
      "text/plain": [
       "<Figure size 720x504 with 1 Axes>"
      ]
     },
     "metadata": {},
     "output_type": "display_data"
    }
   ],
   "source": [
    "fig,ax = plt.subplots(figsize=fig_dims)\n",
    "sns.barplot(x=\"Elevation_category\", y=\"Distance\", hue = 'Distance_category', data=df_avg_dist_group,\n",
    "                 palette=\"Blues_d\", ax=ax)\n",
    "ax.set(xlabel = 'Categories', ylabel = 'Average distance', title = \"Average distance for each category\")\n",
    "plt.show"
   ]
  },
  {
   "cell_type": "markdown",
   "id": "a7131092",
   "metadata": {},
   "source": [
    "<br>\n",
    "Average distances are very similar in all categories. The one that stands out is for short, mountain runs. \n",
    "<br><br>\n",
    "Now, let see how my average tempos looked throughtout my training years. I will split them into months.\n",
    "<br>"
   ]
  },
  {
   "cell_type": "markdown",
   "id": "37d989e1",
   "metadata": {},
   "source": [
    "Let's plot it on the line chart.\n",
    "<br>"
   ]
  },
  {
   "cell_type": "code",
   "execution_count": 50,
   "id": "7f999fdb",
   "metadata": {},
   "outputs": [
    {
     "data": {
      "text/plain": [
       "<function matplotlib.pyplot.show(close=None, block=None)>"
      ]
     },
     "execution_count": 50,
     "metadata": {},
     "output_type": "execute_result"
    },
    {
     "data": {
      "image/png": "[encoded data removed]",
      "text/plain": [
       "<Figure size 1440x576 with 1 Axes>"
      ]
     },
     "metadata": {},
     "output_type": "display_data"
    }
   ],
   "source": [
    "df_all.sort_values(by=['Date'], ascending = True, axis = 0, inplace = True)\n",
    "fig,ax = plt.subplots(figsize=(20,8))\n",
    "sns.lineplot(x=\"Year_month\", y=\"Avg_tempo_in_seconds\", data=df_all,\n",
    "                 palette=\"Blues_d\", ax=ax)\n",
    "ax.set(xlabel = 'Months (2019 - 2021)', ylabel = 'Average tempo in seconds', title = \"Average tempo in seconds for each month\")\n",
    "plt.show"
   ]
  },
  {
   "cell_type": "markdown",
   "id": "5aea1eed",
   "metadata": {},
   "source": [
    "<br>On the above chart we can observe that I achived best scores during period end of 2019 / start of 2020. Then my average tempos started to grow. In that time I moved to more hilly area and obviously I started to run slower. Let's see how numbers of my runs changed based on their elevation gain.<br><br>"
   ]
  },
  {
   "cell_type": "code",
   "execution_count": 51,
   "id": "8b9ef963",
   "metadata": {},
   "outputs": [],
   "source": [
    "# creating a Data Frame to measure count of my runs based on their elevation gain\n",
    "\n",
    "df_elev_gain = df_all[['Year_month', 'Elevation_category', 'Avg_tempo_in_seconds']]\n",
    "df_elev_gain_group = df_elev_gain.groupby(['Year_month', 'Elevation_category'], as_index = False).count()"
   ]
  },
  {
   "cell_type": "code",
   "execution_count": 52,
   "id": "71065162",
   "metadata": {},
   "outputs": [
    {
     "data": {
      "text/plain": [
       "<function matplotlib.pyplot.show(close=None, block=None)>"
      ]
     },
     "execution_count": 52,
     "metadata": {},
     "output_type": "execute_result"
    },
    {
     "data": {
      "image/png": "[encoded data removed]",
      "text/plain": [
       "<Figure size 1440x576 with 1 Axes>"
      ]
     },
     "metadata": {},
     "output_type": "display_data"
    }
   ],
   "source": [
    "fig,ax = plt.subplots(figsize=(20,8))\n",
    "sns.lineplot(x=\"Year_month\", y=\"Avg_tempo_in_seconds\", data=df_elev_gain_group, hue = 'Elevation_category', size = 'Elevation_category',\n",
    "                 palette=\"flare\", ax=ax)\n",
    "ax.set(xlabel = 'Months (2019 - 2021)', ylabel = 'Count of runs', title = \"Count of runs for each elevation category\")\n",
    "plt.show"
   ]
  },
  {
   "cell_type": "markdown",
   "id": "50d7db00",
   "metadata": {},
   "source": [
    "<br>In the 2020-06 there's a growth in my hilly runs. That's the time I moved to the hilly area. But we can observe also a significant change in the numbers of flat runs. At that time, I started to train with running group in the city. We were training mostly at the treadmill - therfore flat runs go up. At the end of 2020, I stoped running with group and ran only around my house. That's why hilly runs go up again. <br>"
   ]
  },
  {
   "cell_type": "markdown",
   "id": "1eeac757",
   "metadata": {},
   "source": [
    " "
   ]
  },
  {
   "cell_type": "markdown",
   "id": "9a8b22ad",
   "metadata": {},
   "source": [
    "Let's now take a look at total distance for each month."
   ]
  },
  {
   "cell_type": "markdown",
   "id": "16784925",
   "metadata": {},
   "source": [
    " "
   ]
  },
  {
   "cell_type": "code",
   "execution_count": 53,
   "id": "d5b6c0c4",
   "metadata": {},
   "outputs": [],
   "source": [
    "df_distance = df_all[['Year_month', 'Distance']]\n",
    "df_distance_group = df_distance.groupby(['Year_month',], as_index = False).sum()"
   ]
  },
  {
   "cell_type": "code",
   "execution_count": 54,
   "id": "ed8dc094",
   "metadata": {},
   "outputs": [
    {
     "data": {
      "text/plain": [
       "<function matplotlib.pyplot.show(close=None, block=None)>"
      ]
     },
     "execution_count": 54,
     "metadata": {},
     "output_type": "execute_result"
    },
    {
     "data": {
      "image/png": "[encoded data removed]",
      "text/plain": [
       "<Figure size 1440x576 with 1 Axes>"
      ]
     },
     "metadata": {},
     "output_type": "display_data"
    }
   ],
   "source": [
    "fig,ax = plt.subplots(figsize=(20,8))\n",
    "sns.barplot(x=\"Year_month\", y=\"Distance\", data=df_distance_group,\n",
    "                 palette=\"Blues_d\", ax=ax)\n",
    "ax.set(xlabel = 'Months', ylabel = 'Distance', title = \"Total distance\")\n",
    "plt.show"
   ]
  },
  {
   "cell_type": "markdown",
   "id": "728b0360",
   "metadata": {},
   "source": [
    "Above chart shows that I'm very sesonal runner. Let's check what were my scores on the coldest day."
   ]
  },
  {
   "cell_type": "code",
   "execution_count": 55,
   "id": "25f8fc13",
   "metadata": {},
   "outputs": [],
   "source": [
    "coldest_day = df_all[df_all.Temp_avg == df_all.Temp_avg.min()]"
   ]
  },
  {
   "cell_type": "code",
   "execution_count": 56,
   "id": "95e230c9",
   "metadata": {},
   "outputs": [
    {
     "data": {
      "text/html": [
       "<div>\n",
       "<style scoped>\n",
       "    .dataframe tbody tr th:only-of-type {\n",
       "        vertical-align: middle;\n",
       "    }\n",
       "\n",
       "    .dataframe tbody tr th {\n",
       "        vertical-align: top;\n",
       "    }\n",
       "\n",
       "    .dataframe thead th {\n",
       "        text-align: right;\n",
       "    }\n",
       "</style>\n",
       "<table border=\"1\" class=\"dataframe\">\n",
       "  <thead>\n",
       "    <tr style=\"text-align: right;\">\n",
       "      <th></th>\n",
       "      <th>Date</th>\n",
       "      <th>Distance</th>\n",
       "      <th>Avg_running_rythm</th>\n",
       "      <th>Elevation_gain</th>\n",
       "      <th>Moving_time_in_seconds</th>\n",
       "      <th>Elapsed_time_in_seconds</th>\n",
       "      <th>Avg_tempo_in_seconds</th>\n",
       "      <th>Rest_time_in_seconds</th>\n",
       "      <th>Rest_percentage</th>\n",
       "      <th>Distance_category</th>\n",
       "      <th>Elevation_category</th>\n",
       "      <th>Year</th>\n",
       "      <th>Month</th>\n",
       "      <th>Year_month</th>\n",
       "      <th>Temp_avg</th>\n",
       "    </tr>\n",
       "  </thead>\n",
       "  <tbody>\n",
       "    <tr>\n",
       "      <th>25</th>\n",
       "      <td>2021-02-13</td>\n",
       "      <td>7.29</td>\n",
       "      <td>167.0</td>\n",
       "      <td>156.0</td>\n",
       "      <td>2363.0</td>\n",
       "      <td>3027.0</td>\n",
       "      <td>324.14</td>\n",
       "      <td>664.0</td>\n",
       "      <td>21.94</td>\n",
       "      <td>short</td>\n",
       "      <td>hills</td>\n",
       "      <td>2021</td>\n",
       "      <td>2</td>\n",
       "      <td>2021-02</td>\n",
       "      <td>-8.0</td>\n",
       "    </tr>\n",
       "  </tbody>\n",
       "</table>\n",
       "</div>"
      ],
      "text/plain": [
       "         Date  Distance  Avg_running_rythm  Elevation_gain  \\\n",
       "25 2021-02-13      7.29              167.0           156.0   \n",
       "\n",
       "    Moving_time_in_seconds  Elapsed_time_in_seconds  Avg_tempo_in_seconds  \\\n",
       "25                  2363.0                   3027.0                324.14   \n",
       "\n",
       "    Rest_time_in_seconds  Rest_percentage Distance_category  \\\n",
       "25                 664.0            21.94             short   \n",
       "\n",
       "   Elevation_category  Year  Month Year_month  Temp_avg  \n",
       "25              hills  2021      2    2021-02      -8.0  "
      ]
     },
     "execution_count": 56,
     "metadata": {},
     "output_type": "execute_result"
    }
   ],
   "source": [
    "coldest_day"
   ]
  },
  {
   "cell_type": "markdown",
   "id": "67fce6d0",
   "metadata": {},
   "source": [
    "2021-02-13 the temperature reached -8 degrees. I ran 7,29 km that day with scores as below."
   ]
  },
  {
   "cell_type": "code",
   "execution_count": 57,
   "id": "606bc7ba",
   "metadata": {},
   "outputs": [
    {
     "name": "stdout",
     "output_type": "stream",
     "text": [
      "Average tempo: 05:24\n",
      "Elapsed time: 50:27\n",
      "Moving time: 39:23\n",
      "Rest time: 11:04\n",
      "\n"
     ]
    }
   ],
   "source": [
    "print('Average tempo: ' + seconds_to_timedelta(324.14) + '\\n'\n",
    "      'Elapsed time: ' + seconds_to_timedelta(3027.0) + '\\n'\n",
    "      'Moving time: ' + seconds_to_timedelta(2363.0) + '\\n'\n",
    "      'Rest time: ' + seconds_to_timedelta(664.0) + '\\n')"
   ]
  },
  {
   "cell_type": "markdown",
   "id": "2fa8f9d4",
   "metadata": {},
   "source": [
    "Finaly, let's check how average tempo and elevation gain are related to the distance. They might be the crucial features for the model. I will also check if Resttime_in_seconds and Avg_running_rythm are correlated with distance."
   ]
  },
  {
   "cell_type": "markdown",
   "id": "51c10149",
   "metadata": {},
   "source": [
    " "
   ]
  },
  {
   "cell_type": "code",
   "execution_count": 58,
   "id": "10746ce3",
   "metadata": {},
   "outputs": [
    {
     "data": {
      "text/plain": [
       "<function matplotlib.pyplot.show(close=None, block=None)>"
      ]
     },
     "execution_count": 58,
     "metadata": {},
     "output_type": "execute_result"
    },
    {
     "data": {
      "image/png": "[encoded data removed]",
      "text/plain": [
       "<Figure size 1440x576 with 1 Axes>"
      ]
     },
     "metadata": {},
     "output_type": "display_data"
    }
   ],
   "source": [
    "# distance / avg tempo\n",
    "\n",
    "fig,ax = plt.subplots(figsize=(20,8))\n",
    "sns.regplot(x=\"Distance\", y=\"Avg_tempo_in_seconds\", data=df_all)\n",
    "ax.set(xlabel = 'Distance', ylabel = 'Avg_tempo_in_seconds', title = \"Distance / Avg tempo in seconds\")\n",
    "plt.show\n",
    "\n"
   ]
  },
  {
   "cell_type": "code",
   "execution_count": 59,
   "id": "3b2b8aeb",
   "metadata": {},
   "outputs": [
    {
     "data": {
      "text/plain": [
       "<function matplotlib.pyplot.show(close=None, block=None)>"
      ]
     },
     "execution_count": 59,
     "metadata": {},
     "output_type": "execute_result"
    },
    {
     "data": {
      "image/png": "[encoded data removed]",
      "text/plain": [
       "<Figure size 1440x576 with 1 Axes>"
      ]
     },
     "metadata": {},
     "output_type": "display_data"
    }
   ],
   "source": [
    "# elevation gain / avg tempo\n",
    "\n",
    "fig,ax = plt.subplots(figsize=(20,8))\n",
    "sns.regplot(x=\"Elevation_gain\", y=\"Avg_tempo_in_seconds\", data=df_all)\n",
    "ax.set(xlabel = 'Elevation_gain', ylabel = 'Avg_tempo_in_seconds', title = \"Distance / Avg tempo in seconds\")\n",
    "plt.show"
   ]
  },
  {
   "cell_type": "code",
   "execution_count": 60,
   "id": "ea128c3f",
   "metadata": {},
   "outputs": [
    {
     "data": {
      "text/html": [
       "<div>\n",
       "<style scoped>\n",
       "    .dataframe tbody tr th:only-of-type {\n",
       "        vertical-align: middle;\n",
       "    }\n",
       "\n",
       "    .dataframe tbody tr th {\n",
       "        vertical-align: top;\n",
       "    }\n",
       "\n",
       "    .dataframe thead th {\n",
       "        text-align: right;\n",
       "    }\n",
       "</style>\n",
       "<table border=\"1\" class=\"dataframe\">\n",
       "  <thead>\n",
       "    <tr style=\"text-align: right;\">\n",
       "      <th></th>\n",
       "      <th>Distance</th>\n",
       "      <th>Elevation_gain</th>\n",
       "      <th>Avg_tempo_in_seconds</th>\n",
       "    </tr>\n",
       "  </thead>\n",
       "  <tbody>\n",
       "    <tr>\n",
       "      <th>Distance</th>\n",
       "      <td>1.00</td>\n",
       "      <td>0.54</td>\n",
       "      <td>0.22</td>\n",
       "    </tr>\n",
       "    <tr>\n",
       "      <th>Elevation_gain</th>\n",
       "      <td>0.54</td>\n",
       "      <td>1.00</td>\n",
       "      <td>0.49</td>\n",
       "    </tr>\n",
       "    <tr>\n",
       "      <th>Avg_tempo_in_seconds</th>\n",
       "      <td>0.22</td>\n",
       "      <td>0.49</td>\n",
       "      <td>1.00</td>\n",
       "    </tr>\n",
       "  </tbody>\n",
       "</table>\n",
       "</div>"
      ],
      "text/plain": [
       "                      Distance  Elevation_gain  Avg_tempo_in_seconds\n",
       "Distance                  1.00            0.54                  0.22\n",
       "Elevation_gain            0.54            1.00                  0.49\n",
       "Avg_tempo_in_seconds      0.22            0.49                  1.00"
      ]
     },
     "execution_count": 60,
     "metadata": {},
     "output_type": "execute_result"
    }
   ],
   "source": [
    "df_all[['Distance', 'Elevation_gain', 'Avg_tempo_in_seconds']].corr()"
   ]
  },
  {
   "cell_type": "markdown",
   "id": "c123c217",
   "metadata": {},
   "source": [
    " "
   ]
  },
  {
   "cell_type": "code",
   "execution_count": 61,
   "id": "16e3dcc3",
   "metadata": {},
   "outputs": [
    {
     "data": {
      "text/plain": [
       "<AxesSubplot:xlabel='Distance', ylabel='Rest_time_in_seconds'>"
      ]
     },
     "execution_count": 61,
     "metadata": {},
     "output_type": "execute_result"
    },
    {
     "data": {
      "image/png": "[encoded data removed]",
      "text/plain": [
       "<Figure size 1440x576 with 2 Axes>"
      ]
     },
     "metadata": {},
     "output_type": "display_data"
    }
   ],
   "source": [
    "fig, axs = plt.subplots(ncols=2, figsize=(20,8))\n",
    "\n",
    "sns.regplot(x=\"Distance\", y=\"Avg_running_rythm\", data=df_all, ax=axs[0])\n",
    "sns.regplot(x=\"Distance\", y=\"Rest_time_in_seconds\", data=df_all, ax=axs[1])\n",
    "#ax.set(xlabel = 'Distance', ylabel = 'Avg_tempo_in_seconds', title = \"Distance / Avg tempo in seconds\")"
   ]
  },
  {
   "cell_type": "code",
   "execution_count": 62,
   "id": "a1bdc09b",
   "metadata": {},
   "outputs": [
    {
     "data": {
      "text/html": [
       "<div>\n",
       "<style scoped>\n",
       "    .dataframe tbody tr th:only-of-type {\n",
       "        vertical-align: middle;\n",
       "    }\n",
       "\n",
       "    .dataframe tbody tr th {\n",
       "        vertical-align: top;\n",
       "    }\n",
       "\n",
       "    .dataframe thead th {\n",
       "        text-align: right;\n",
       "    }\n",
       "</style>\n",
       "<table border=\"1\" class=\"dataframe\">\n",
       "  <thead>\n",
       "    <tr style=\"text-align: right;\">\n",
       "      <th></th>\n",
       "      <th>Distance</th>\n",
       "      <th>Avg_running_rythm</th>\n",
       "      <th>Rest_time_in_seconds</th>\n",
       "    </tr>\n",
       "  </thead>\n",
       "  <tbody>\n",
       "    <tr>\n",
       "      <th>Distance</th>\n",
       "      <td>1.00</td>\n",
       "      <td>-0.17</td>\n",
       "      <td>0.32</td>\n",
       "    </tr>\n",
       "    <tr>\n",
       "      <th>Avg_running_rythm</th>\n",
       "      <td>-0.17</td>\n",
       "      <td>1.00</td>\n",
       "      <td>-0.64</td>\n",
       "    </tr>\n",
       "    <tr>\n",
       "      <th>Rest_time_in_seconds</th>\n",
       "      <td>0.32</td>\n",
       "      <td>-0.64</td>\n",
       "      <td>1.00</td>\n",
       "    </tr>\n",
       "  </tbody>\n",
       "</table>\n",
       "</div>"
      ],
      "text/plain": [
       "                      Distance  Avg_running_rythm  Rest_time_in_seconds\n",
       "Distance                  1.00              -0.17                  0.32\n",
       "Avg_running_rythm        -0.17               1.00                 -0.64\n",
       "Rest_time_in_seconds      0.32              -0.64                  1.00"
      ]
     },
     "execution_count": 62,
     "metadata": {},
     "output_type": "execute_result"
    }
   ],
   "source": [
    "df_all[['Distance', 'Avg_running_rythm', 'Rest_time_in_seconds']].corr()"
   ]
  },
  {
   "cell_type": "markdown",
   "id": "4cb62dcb",
   "metadata": {},
   "source": [
    "Lets check how other features are correlated with each othre and start prepering the prediction model."
   ]
  },
  {
   "cell_type": "markdown",
   "id": "dd86093b",
   "metadata": {},
   "source": [
    " "
   ]
  },
  {
   "cell_type": "code",
   "execution_count": 63,
   "id": "8ca5daab",
   "metadata": {},
   "outputs": [
    {
     "data": {
      "image/png": "[encoded data removed]",
      "text/plain": [
       "<Figure size 1440x576 with 2 Axes>"
      ]
     },
     "metadata": {},
     "output_type": "display_data"
    }
   ],
   "source": [
    "fig = plt.subplots(figsize=(20,8))\n",
    "sns.heatmap(df_all.corr(), annot = True)\n",
    "plt.show()"
   ]
  },
  {
   "cell_type": "markdown",
   "id": "82eacb15",
   "metadata": {},
   "source": [
    "# ✔️ Building predictive models"
   ]
  },
  {
   "cell_type": "markdown",
   "id": "772276aa",
   "metadata": {},
   "source": [
    "My target variable will be average tempo in seconds. I've decided to build the model based on two features - elevation gain and distance, as they seem to be the most relevant when it comes to the final average tempo. "
   ]
  },
  {
   "cell_type": "markdown",
   "id": "ae08b0bd",
   "metadata": {},
   "source": [
    "I will build a multiple linear regression model, Decision Tree Regressorand Random Forrest Regressor models with Scikit Learn's Pipeline and StandardScaler objects. "
   ]
  },
  {
   "cell_type": "markdown",
   "id": "421fceb3",
   "metadata": {},
   "source": [
    "<b>Models evaluation</b></br>\n",
    "I will evalute models using two measures that are often used in statistic.<br>\n",
    "<ul>\n",
    "    <li><b>R^2 / R-squared</b> - it's a measure which indicates how close the data is to the fitted regression line. The value of R-squared is the percentage of variation of the response variable (y) that is explained by a linear model. R-squared = 50% means that half of the data has been covered (or predicted correctly) with linear regression. </li>\n",
    "</ul>\n",
    "<ul>\n",
    "    <li><b>Mean Squarred Error (MSE)</b> - it measures the average of the squares of errors which is the difference between actual value and the estimated one. The larger the number the larger the error . MSE of 0.0 indicates perfect agreement</li>\n",
    "</ul>\n",
    "<ul>\n",
    "    <li><b>Root Mean Squarred Error (RMSE)</b> - it is the standard deviation of the residuals - predictions errors. It measures how spread out these residuals are around line of best fit. The lower RMSE, the better score. </li>\n",
    "</ul><br>"
   ]
  },
  {
   "cell_type": "markdown",
   "id": "57e87520",
   "metadata": {},
   "source": [
    "Below function will help in getting scores printed and creating distribution plot showing how excatly regression line fits the real values."
   ]
  },
  {
   "cell_type": "code",
   "execution_count": 64,
   "id": "0403b300",
   "metadata": {},
   "outputs": [],
   "source": [
    "def evaluate(model_name, true, predicted):\n",
    "    \n",
    "    #calculating MSE\n",
    "    mse = metrics.mean_squared_error(true, predicted)\n",
    "    \n",
    "    #calculating RMSE\n",
    "    rmse = np.sqrt(metrics.mean_squared_error(true, predicted))\n",
    "    \n",
    "    #calculating R^2\n",
    "    r2 = metrics.r2_score(true, predicted)\n",
    "    \n",
    "    #plot\n",
    "    plt.figure(figsize=(10, 7))\n",
    "    ax1 = sns.distplot(true, hist=False, color='seagreen', label = 'True values')\n",
    "    sns.distplot(predicted, hist=False, color = 'maroon', label = 'Predicted values', ax = ax1)\n",
    "    plt.title('Real and predicted values for Average tempo')\n",
    "    plt.xlabel('Average tempo in seconds')\n",
    "    plt.ylabel('Features')\n",
    "    plt.legend(['Real', 'Predicted'])\n",
    "    plt.show()\n",
    "    \n",
    "    #print scores\n",
    "    print(model_name,\"'s evaluation: \")\n",
    "    print('_______________________')\n",
    "    print('MSE: ', mse)\n",
    "    print('_______________________')\n",
    "    print('RMSE: ', rmse)   \n",
    "    print('_______________________')\n",
    "    print('R-squared: ', r2)\n",
    "    print('_______________________')"
   ]
  },
  {
   "cell_type": "markdown",
   "id": "27be9f21",
   "metadata": {},
   "source": [
    "### Import libraries"
   ]
  },
  {
   "cell_type": "code",
   "execution_count": 65,
   "id": "9f44bfa5",
   "metadata": {},
   "outputs": [],
   "source": [
    "# Linear regression model\n",
    "from sklearn.linear_model import LinearRegression\n",
    "\n",
    "# To split data into training and test sets\n",
    "from sklearn.model_selection import train_test_split\n",
    "\n",
    "# StandardScaler used for data normalization\n",
    "from sklearn.preprocessing import StandardScaler\n",
    "\n",
    "# Metrics used for outcome validation\n",
    "from sklearn import metrics\n",
    "\n",
    "# I will use stats's zscore method to remove outliers from the final DataFrame\n",
    "from scipy import stats\n",
    "\n",
    "# Decision Tree Regressor model\n",
    "from sklearn.tree import DecisionTreeRegressor\n",
    "\n",
    "# Cross validation model\n",
    "from sklearn.model_selection import cross_val_score\n",
    "\n",
    "# Random Forest Regressor\n",
    "from sklearn.ensemble import RandomForestRegressor\n",
    "\n",
    "#GridSearchCV used for fine-tuning\n",
    "from sklearn.model_selection import GridSearchCV"
   ]
  },
  {
   "cell_type": "markdown",
   "id": "9a3f98c9",
   "metadata": {},
   "source": [
    "### Train Test Split"
   ]
  },
  {
   "cell_type": "markdown",
   "id": "fccba9fb",
   "metadata": {},
   "source": [
    "Let's first create our features togheter with target variable and split them into two sets - training and test. Before that I will remove outliers  (bigger than 3 times standard deviation for each column) using zscore methode from stats library."
   ]
  },
  {
   "cell_type": "markdown",
   "id": "7b0569c4",
   "metadata": {},
   "source": [
    " "
   ]
  },
  {
   "cell_type": "code",
   "execution_count": 66,
   "id": "5c275581",
   "metadata": {},
   "outputs": [],
   "source": [
    "df_model = df_all[['Elevation_gain', 'Distance', 'Avg_tempo_in_seconds']]\n",
    "\n",
    "# removing ourliers\n",
    "df_model = df_model[(np.abs(stats.zscore(df_model)) < 3).all(axis=1)]\n",
    "\n",
    "X = df_model[['Elevation_gain', 'Distance']] \n",
    "y = df_model['Avg_tempo_in_seconds']\n",
    "\n",
    "X_train, X_test, y_train, y_test = train_test_split(X, y, test_size = 0.3, random_state = 42)"
   ]
  },
  {
   "cell_type": "code",
   "execution_count": 67,
   "id": "4978d7e4",
   "metadata": {},
   "outputs": [
    {
     "data": {
      "text/plain": [
       "(116, 2)"
      ]
     },
     "execution_count": 67,
     "metadata": {},
     "output_type": "execute_result"
    }
   ],
   "source": [
    "X_train.shape"
   ]
  },
  {
   "cell_type": "code",
   "execution_count": 68,
   "id": "3d5f8619",
   "metadata": {},
   "outputs": [
    {
     "name": "stdout",
     "output_type": "stream",
     "text": [
      "Shape of X_train set is:  (116, 2)\n",
      "Shape of y_train set is:  (116,)\n",
      "Shape of X_test set is:  (50, 2)\n",
      "Shape of y_test set is:  (50,)\n"
     ]
    }
   ],
   "source": [
    "print('Shape of X_train set is: ', X_train.shape)\n",
    "print('Shape of y_train set is: ', y_train.shape)\n",
    "print('Shape of X_test set is: ', X_test.shape)\n",
    "print('Shape of y_test set is: ', y_test.shape)"
   ]
  },
  {
   "cell_type": "markdown",
   "id": "2b5932ed",
   "metadata": {},
   "source": [
    "### 📈 Multiple Linear Regression"
   ]
  },
  {
   "cell_type": "markdown",
   "id": "8585fefa",
   "metadata": {},
   "source": [
    "I will first normalize the data using StandardScaler and transform the X_train data."
   ]
  },
  {
   "cell_type": "code",
   "execution_count": 69,
   "id": "98ae4a39",
   "metadata": {},
   "outputs": [],
   "source": [
    "scaler = StandardScaler()\n",
    "\n",
    "X_train_scal = scaler.fit_transform(X_train)\n"
   ]
  },
  {
   "cell_type": "code",
   "execution_count": 70,
   "id": "bce87f18",
   "metadata": {},
   "outputs": [
    {
     "data": {
      "text/plain": [
       "LinearRegression(normalize=True)"
      ]
     },
     "execution_count": 70,
     "metadata": {},
     "output_type": "execute_result"
    }
   ],
   "source": [
    "lin_reg = LinearRegression(normalize = True) #normalize parameter is set to True as I already scaled the input with StandardScaler\n",
    "lin_reg.fit(X_train_scal, y_train)"
   ]
  },
  {
   "cell_type": "markdown",
   "id": "f8350dbf",
   "metadata": {},
   "source": [
    "The model is created. Let's evalute it using samples from our training set."
   ]
  },
  {
   "cell_type": "code",
   "execution_count": 71,
   "id": "dd453300",
   "metadata": {},
   "outputs": [],
   "source": [
    "X_train_scal_sample = X_train_scal[0:5]\n",
    "y_train_sample = y_train[0:5]\n",
    "pred = lin_reg.predict(X_train_scal_sample)"
   ]
  },
  {
   "cell_type": "code",
   "execution_count": 72,
   "id": "4337ad09",
   "metadata": {
    "scrolled": true
   },
   "outputs": [
    {
     "name": "stdout",
     "output_type": "stream",
     "text": [
      "[314.71214919215913, 306.0311024386731, 295.6944024972772, 296.86401181949276, 339.9232407120852]\n",
      "[308.7171052631579, 287.06467661691545, 281.3261163734777, 292.11045364891515, 355.48489666136726]\n"
     ]
    }
   ],
   "source": [
    "print(list(pred))\n",
    "print(list(y_train_sample))"
   ]
  },
  {
   "cell_type": "code",
   "execution_count": 73,
   "id": "1003c224",
   "metadata": {
    "scrolled": true
   },
   "outputs": [
    {
     "data": {
      "image/png": "[encoded data removed]",
      "text/plain": [
       "<Figure size 720x504 with 1 Axes>"
      ]
     },
     "metadata": {},
     "output_type": "display_data"
    },
    {
     "name": "stdout",
     "output_type": "stream",
     "text": [
      "Multiple Linear Regression 's evaluation: \n",
      "_______________________\n",
      "MSE:  173.37499149262993\n",
      "_______________________\n",
      "RMSE:  13.167193759211942\n",
      "_______________________\n",
      "R-squared:  0.7599211734399672\n",
      "_______________________\n"
     ]
    }
   ],
   "source": [
    "evaluate('Multiple Linear Regression', y_train_sample, pred)"
   ]
  },
  {
   "cell_type": "markdown",
   "id": "59cf740a",
   "metadata": {},
   "source": [
    " "
   ]
  },
  {
   "cell_type": "markdown",
   "id": "647db4dc",
   "metadata": {},
   "source": [
    " "
   ]
  },
  {
   "cell_type": "markdown",
   "id": "6a29f930",
   "metadata": {},
   "source": [
    "The sample set received quite ok resaults. R-squated says that 75% of data has been covered with linear regression and the typical prediction error  = 13 sec. (RMSE, interpretable in target variable's units)"
   ]
  },
  {
   "cell_type": "markdown",
   "id": "95153a40",
   "metadata": {},
   "source": [
    "Lets check how the model evaluates on the whole training set."
   ]
  },
  {
   "cell_type": "code",
   "execution_count": 74,
   "id": "ad605e4c",
   "metadata": {},
   "outputs": [],
   "source": [
    "lin_reg_pred = lin_reg.predict(X_train_scal)"
   ]
  },
  {
   "cell_type": "code",
   "execution_count": 75,
   "id": "89cab205",
   "metadata": {},
   "outputs": [
    {
     "data": {
      "image/png": "[encoded data removed]",
      "text/plain": [
       "<Figure size 720x504 with 1 Axes>"
      ]
     },
     "metadata": {},
     "output_type": "display_data"
    },
    {
     "name": "stdout",
     "output_type": "stream",
     "text": [
      "Multiple Linear Regression 's evaluation: \n",
      "_______________________\n",
      "MSE:  1159.3729627961259\n",
      "_______________________\n",
      "RMSE:  34.049566264434645\n",
      "_______________________\n",
      "R-squared:  0.25683422062662786\n",
      "_______________________\n"
     ]
    }
   ],
   "source": [
    " evaluate('Multiple Linear Regression', y_train, lin_reg_pred)"
   ]
  },
  {
   "cell_type": "markdown",
   "id": "15a4af56",
   "metadata": {},
   "source": [
    "Unfortunately, here the score is much worse. Both R-squared and RMSE changed drasticaly. Let's train another model."
   ]
  },
  {
   "cell_type": "markdown",
   "id": "24e49035",
   "metadata": {},
   "source": [
    "### 📈 Decision Tree Regressor"
   ]
  },
  {
   "cell_type": "markdown",
   "id": "30ac4e6f",
   "metadata": {},
   "source": [
    " "
   ]
  },
  {
   "cell_type": "code",
   "execution_count": 76,
   "id": "4a7541bd",
   "metadata": {},
   "outputs": [
    {
     "data": {
      "text/plain": [
       "DecisionTreeRegressor()"
      ]
     },
     "execution_count": 76,
     "metadata": {},
     "output_type": "execute_result"
    }
   ],
   "source": [
    "tree_reg = DecisionTreeRegressor()\n",
    "tree_reg.fit(X_train_scal, y_train)"
   ]
  },
  {
   "cell_type": "code",
   "execution_count": 77,
   "id": "5f7c92da",
   "metadata": {},
   "outputs": [],
   "source": [
    "tree_pred = tree_reg.predict(X_train_scal)"
   ]
  },
  {
   "cell_type": "code",
   "execution_count": 78,
   "id": "6c687233",
   "metadata": {
    "scrolled": true
   },
   "outputs": [
    {
     "data": {
      "image/png": "[encoded data removed]",
      "text/plain": [
       "<Figure size 720x504 with 1 Axes>"
      ]
     },
     "metadata": {},
     "output_type": "display_data"
    },
    {
     "name": "stdout",
     "output_type": "stream",
     "text": [
      "Decision Tree Regressor 's evaluation: \n",
      "_______________________\n",
      "MSE:  12.614795800164941\n",
      "_______________________\n",
      "RMSE:  3.551731380631838\n",
      "_______________________\n",
      "R-squared:  0.9919138319994495\n",
      "_______________________\n"
     ]
    }
   ],
   "source": [
    "evaluate('Decision Tree Regressor', y_train, tree_pred)"
   ]
  },
  {
   "cell_type": "markdown",
   "id": "d5dab58f",
   "metadata": {},
   "source": [
    " "
   ]
  },
  {
   "cell_type": "markdown",
   "id": "ccd3f464",
   "metadata": {},
   "source": [
    "It looks like a perfect model but that definitely cannot be true. It's much more likely that the model is overfitting. Let's check it using cross-validation feature provided by Scikit-Learn. It will split our training set into 10 unique subsets, then train it and evaluate. The result will be a list of 10 minus mean squared error which I will convert into list of RMSEs."
   ]
  },
  {
   "cell_type": "markdown",
   "id": "6daba36a",
   "metadata": {},
   "source": [
    " "
   ]
  },
  {
   "cell_type": "code",
   "execution_count": 79,
   "id": "5aac540b",
   "metadata": {},
   "outputs": [],
   "source": [
    "# calculating scores\n",
    "\n",
    "scores = cross_val_score(tree_reg, X_train_scal, y_train,\n",
    "                        scoring='neg_mean_squared_error', cv=10)\n",
    "\n",
    "tree_reg_score = np.sqrt(-scores)"
   ]
  },
  {
   "cell_type": "code",
   "execution_count": 80,
   "id": "da42b97e",
   "metadata": {},
   "outputs": [],
   "source": [
    "# function to show scores for cross validation model\n",
    "\n",
    "def print_scores(scores):\n",
    "    print('_______________________')\n",
    "    print('Scores list: ', scores)\n",
    "    print('_______________________')\n",
    "    print('Scores mean: ', scores.mean())\n",
    "    print('_______________________')\n",
    "    print('Scores std: ', scores.std())"
   ]
  },
  {
   "cell_type": "code",
   "execution_count": 81,
   "id": "cda42514",
   "metadata": {
    "scrolled": true
   },
   "outputs": [
    {
     "name": "stdout",
     "output_type": "stream",
     "text": [
      "_______________________\n",
      "Scores list:  [45.07309838 52.58918002 45.7949078  40.65681293 50.30798426 56.07185193\n",
      " 30.89185479 71.13693637 54.36477114 52.27747692]\n",
      "_______________________\n",
      "Scores mean:  49.91648745372612\n",
      "_______________________\n",
      "Scores std:  10.04479006810052\n"
     ]
    }
   ],
   "source": [
    "print_scores(tree_reg_score)"
   ]
  },
  {
   "cell_type": "markdown",
   "id": "d55418b0",
   "metadata": {},
   "source": [
    " "
   ]
  },
  {
   "cell_type": "markdown",
   "id": "d25b01be",
   "metadata": {},
   "source": [
    "We can clearly see now that the Decision Tree model is far from being perfect. In fact is worse than the Linear Regression model where RMSE was around 34. Let's check its scores using cross validation."
   ]
  },
  {
   "cell_type": "markdown",
   "id": "023289fe",
   "metadata": {},
   "source": [
    " "
   ]
  },
  {
   "cell_type": "code",
   "execution_count": 82,
   "id": "8bf37bbd",
   "metadata": {},
   "outputs": [],
   "source": [
    "lin_reg_scores = cross_val_score(lin_reg, X_train_scal, y_train,\n",
    "                        scoring='neg_mean_squared_error', cv=10)\n",
    "\n",
    "lin_reg_score_rmse = np.sqrt(-lin_reg_scores)"
   ]
  },
  {
   "cell_type": "code",
   "execution_count": 83,
   "id": "dbe43a3b",
   "metadata": {},
   "outputs": [
    {
     "name": "stdout",
     "output_type": "stream",
     "text": [
      "_______________________\n",
      "Scores list:  [15.98360314 35.21851002 38.53627485 23.45005979 30.98647288 46.4204818\n",
      " 33.71016881 46.58287128 30.55749933 33.93009228]\n",
      "_______________________\n",
      "Scores mean:  33.53760341849929\n",
      "_______________________\n",
      "Scores std:  8.885011581216881\n"
     ]
    }
   ],
   "source": [
    "print_scores(lin_reg_score_rmse)"
   ]
  },
  {
   "cell_type": "markdown",
   "id": "76a3e27d",
   "metadata": {},
   "source": [
    " "
   ]
  },
  {
   "cell_type": "markdown",
   "id": "9165c98d",
   "metadata": {},
   "source": [
    "Let's try another one model - Random Forest Regressor. "
   ]
  },
  {
   "cell_type": "markdown",
   "id": "ae79d025",
   "metadata": {},
   "source": [
    "### 📈 Random Forest Regressor"
   ]
  },
  {
   "cell_type": "markdown",
   "id": "0b5a2f77",
   "metadata": {},
   "source": [
    "That's how Scikit Learn documentation describes it.\n",
    "> A random forest is a meta estimator that fits a number of decision tree classifiers on various sub-samples of the dataset and uses averaging to improve the predictive accuracy and control over-fitting."
   ]
  },
  {
   "cell_type": "code",
   "execution_count": 84,
   "id": "5cf0710f",
   "metadata": {},
   "outputs": [
    {
     "data": {
      "text/plain": [
       "RandomForestRegressor()"
      ]
     },
     "execution_count": 84,
     "metadata": {},
     "output_type": "execute_result"
    }
   ],
   "source": [
    "# creating and fitting the model\n",
    "\n",
    "forest_reg = RandomForestRegressor()\n",
    "forest_reg.fit(X_train_scal, y_train)"
   ]
  },
  {
   "cell_type": "code",
   "execution_count": 85,
   "id": "9abd3a15",
   "metadata": {},
   "outputs": [],
   "source": [
    "# cross validating\n",
    "\n",
    "forest_reg_scores = cross_val_score(forest_reg, X_train_scal, y_train,\n",
    "                        scoring='neg_mean_squared_error', cv=10)\n",
    "\n",
    "forest_reg_score_rmse = np.sqrt(-forest_reg_scores)"
   ]
  },
  {
   "cell_type": "code",
   "execution_count": 86,
   "id": "3767fc03",
   "metadata": {},
   "outputs": [
    {
     "name": "stdout",
     "output_type": "stream",
     "text": [
      "_______________________\n",
      "Scores list:  [20.22930792 41.82927156 42.7663547  21.60749732 36.11180924 48.85542148\n",
      " 29.08356378 56.60985426 40.34417825 38.14903324]\n",
      "_______________________\n",
      "Scores mean:  37.558629174564544\n",
      "_______________________\n",
      "Scores std:  10.82911515221822\n"
     ]
    }
   ],
   "source": [
    "print_scores(forest_reg_score_rmse)"
   ]
  },
  {
   "cell_type": "markdown",
   "id": "2b29b26a",
   "metadata": {},
   "source": [
    " "
   ]
  },
  {
   "cell_type": "markdown",
   "id": "f7bda18b",
   "metadata": {},
   "source": [
    "So far, it seems that Linear Regression model performs best. But since Random Forest Regressor is second in line, I will try to fine-tune it using Grid Search and see if it can achive beter scores. "
   ]
  },
  {
   "cell_type": "markdown",
   "id": "75f0ed5b",
   "metadata": {},
   "source": [
    " "
   ]
  },
  {
   "cell_type": "code",
   "execution_count": 87,
   "id": "f90fa1ce",
   "metadata": {},
   "outputs": [],
   "source": [
    "# defining which hyperparameters combination should be tested\n",
    "\n",
    "param_grid = [\n",
    "    {'n_estimators': [3, 10, 30], 'max_features': [2, 4, 6, 8]},\n",
    "    {'bootstrap': [False], 'n_estimators': [3, 10], 'max_features': [2, 3, 4]},\n",
    "]"
   ]
  },
  {
   "cell_type": "code",
   "execution_count": 88,
   "id": "25c1b5a6",
   "metadata": {},
   "outputs": [],
   "source": [
    "# creating a new RFR model\n",
    "forest_reg_grid = RandomForestRegressor() "
   ]
  },
  {
   "cell_type": "code",
   "execution_count": 89,
   "id": "bae7c303",
   "metadata": {},
   "outputs": [
    {
     "data": {
      "text/plain": [
       "GridSearchCV(cv=5, estimator=RandomForestRegressor(),\n",
       "             param_grid=[{'max_features': [2, 4, 6, 8],\n",
       "                          'n_estimators': [3, 10, 30]},\n",
       "                         {'bootstrap': [False], 'max_features': [2, 3, 4],\n",
       "                          'n_estimators': [3, 10]}],\n",
       "             return_train_score=True, scoring='neg_mean_squared_error')"
      ]
     },
     "execution_count": 89,
     "metadata": {},
     "output_type": "execute_result"
    }
   ],
   "source": [
    "# creating a Grid Search model and fitting it with our training data\n",
    "grid_search = GridSearchCV(forest_reg_grid, param_grid, cv = 5,\n",
    "                          scoring='neg_mean_squared_error',\n",
    "                          return_train_score = True)\n",
    "\n",
    "grid_search.fit(X_train_scal, y_train)"
   ]
  },
  {
   "cell_type": "code",
   "execution_count": 90,
   "id": "359faf6e",
   "metadata": {},
   "outputs": [
    {
     "data": {
      "text/plain": [
       "{'max_features': 2, 'n_estimators': 30}"
      ]
     },
     "execution_count": 90,
     "metadata": {},
     "output_type": "execute_result"
    }
   ],
   "source": [
    "# Let's check what are the best parameters for our model\n",
    "\n",
    "grid_search.best_params_"
   ]
  },
  {
   "cell_type": "code",
   "execution_count": 91,
   "id": "71127f4e",
   "metadata": {},
   "outputs": [
    {
     "name": "stdout",
     "output_type": "stream",
     "text": [
      "41.180618399005766 {'max_features': 2, 'n_estimators': 3}\n",
      "39.283330205063805 {'max_features': 2, 'n_estimators': 10}\n",
      "38.67307852333548 {'max_features': 2, 'n_estimators': 30}\n",
      "nan {'max_features': 4, 'n_estimators': 3}\n",
      "nan {'max_features': 4, 'n_estimators': 10}\n",
      "nan {'max_features': 4, 'n_estimators': 30}\n",
      "nan {'max_features': 6, 'n_estimators': 3}\n",
      "nan {'max_features': 6, 'n_estimators': 10}\n",
      "nan {'max_features': 6, 'n_estimators': 30}\n",
      "nan {'max_features': 8, 'n_estimators': 3}\n",
      "nan {'max_features': 8, 'n_estimators': 10}\n",
      "nan {'max_features': 8, 'n_estimators': 30}\n",
      "46.97843841804693 {'bootstrap': False, 'max_features': 2, 'n_estimators': 3}\n",
      "46.37257582983534 {'bootstrap': False, 'max_features': 2, 'n_estimators': 10}\n",
      "nan {'bootstrap': False, 'max_features': 3, 'n_estimators': 3}\n",
      "nan {'bootstrap': False, 'max_features': 3, 'n_estimators': 10}\n",
      "nan {'bootstrap': False, 'max_features': 4, 'n_estimators': 3}\n",
      "nan {'bootstrap': False, 'max_features': 4, 'n_estimators': 10}\n"
     ]
    }
   ],
   "source": [
    "#Let's also check what other parameters looked like\n",
    "\n",
    "grid_result = grid_search.cv_results_\n",
    "for mean_score, params in zip(grid_result[\"mean_test_score\"], grid_result[\"params\"]):\n",
    "    print(np.sqrt(-mean_score), params)"
   ]
  },
  {
   "cell_type": "markdown",
   "id": "d91b4275",
   "metadata": {},
   "source": [
    " "
   ]
  },
  {
   "cell_type": "markdown",
   "id": "734c7030",
   "metadata": {},
   "source": [
    "Unfortunately, RMSE hasn't improved significantly. Linear regression model still has the best scores. But to be sure, I will compare it with the Random Forest model on the test data."
   ]
  },
  {
   "cell_type": "markdown",
   "id": "5374f4fc",
   "metadata": {},
   "source": [
    " "
   ]
  },
  {
   "cell_type": "markdown",
   "id": "9d58f225",
   "metadata": {},
   "source": [
    "### 📈 Test set evaluation"
   ]
  },
  {
   "cell_type": "code",
   "execution_count": 92,
   "id": "c560ecaf",
   "metadata": {},
   "outputs": [],
   "source": [
    "# Let's first transform the test dataset using Standard Scaler\n",
    "\n",
    "X_test_scal = scaler.transform(X_test)"
   ]
  },
  {
   "cell_type": "code",
   "execution_count": 93,
   "id": "1afbbd3d",
   "metadata": {},
   "outputs": [],
   "source": [
    "# using .best_estimator_ attributes grom my Grid Search, I will get already fitted model using best parameters ( {'max_features': 2, 'n_estimators': 30} )\n",
    "grid_model = grid_search.best_estimator_"
   ]
  },
  {
   "cell_type": "code",
   "execution_count": 94,
   "id": "262cfd57",
   "metadata": {},
   "outputs": [],
   "source": [
    "# predictions\n",
    "lin_reg_final_prediction = lin_reg.predict(X_test_scal)\n",
    "grid_model_final_prediction = grid_model.predict(X_test_scal)"
   ]
  },
  {
   "cell_type": "code",
   "execution_count": 95,
   "id": "fff024d7",
   "metadata": {},
   "outputs": [
    {
     "name": "stdout",
     "output_type": "stream",
     "text": [
      "-------------------------------\n",
      "Final MSE for Linear Regression model =  1355.7023873596377\n",
      "Final RMSE for Linear Regression model =  36.81986403233501\n",
      "-------------------------------\n",
      "Final MSE for Random Forest Regressor model =  1807.723771595587\n",
      "Final RMSE for Random Forest Regressor model =  42.51733495405829\n"
     ]
    }
   ],
   "source": [
    "# Let's chceck the final scores\n",
    "\n",
    "lin_reg_final_mse = metrics.mean_squared_error(y_test, lin_reg_final_prediction)\n",
    "lin_reg_final_rmse = np.sqrt(lin_reg_final_mse)\n",
    "forest_final_mse = metrics.mean_squared_error(y_test, grid_model_final_prediction)\n",
    "forest_final_rmse = np.sqrt(forest_final_mse)\n",
    "\n",
    "# and print them\n",
    "print('-------------------------------')\n",
    "print('Final MSE for Linear Regression model = ', lin_reg_final_mse)\n",
    "print('Final RMSE for Linear Regression model = ', lin_reg_final_rmse)\n",
    "print('-------------------------------')\n",
    "print('Final MSE for Random Forest Regressor model = ', forest_final_mse)\n",
    "print('Final RMSE for Random Forest Regressor model = ', forest_final_rmse)"
   ]
  },
  {
   "cell_type": "markdown",
   "id": "9a5c9de0",
   "metadata": {},
   "source": [
    " "
   ]
  },
  {
   "cell_type": "markdown",
   "id": "7bc58b89",
   "metadata": {},
   "source": [
    "# ✔️ Conclusions"
   ]
  },
  {
   "cell_type": "markdown",
   "id": "90d1bdb5",
   "metadata": {},
   "source": [
    "The predictive models are not the best. But, to be honest, it's not that supprising for me. As it was presented in the EDA section, the average tempo can vary significantly even though the distance and elevation gain are the same. Models are based on the data from the past two years and during that time, many factors that have impact on my results, have changed. My condition was changing, my motivation and weather conditions. And because of that it's hard to be precise in that kind of prediction. I'm sure that with additional information like condition state or motivation level for the given day (that would be measurable), I would be able to create much more efficient predictive models. "
   ]
  },
  {
   "cell_type": "markdown",
   "id": "c73f1e80",
   "metadata": {},
   "source": [
    "# 🔗 References:\n",
    "- [My LinkedIn profile](https://www.linkedin.com/in/grzegorz-kosek)\n",
    "- [Linear Regression for Machine Learning by Jason Brownlee PhD](https://machinelearningmastery.com/linear-regression-for-machine-learning/)"
   ]
  },
  {
   "cell_type": "code",
   "execution_count": null,
   "id": "0b8e2da2",
   "metadata": {},
   "outputs": [],
   "source": []
  }
 ],
 "metadata": {
  "kernelspec": {
   "display_name": "Python 3",
   "language": "python",
   "name": "python3"
  },
  "language_info": {
   "codemirror_mode": {
    "name": "ipython",
    "version": 3
   },
   "file_extension": ".py",
   "mimetype": "text/x-python",
   "name": "python",
   "nbconvert_exporter": "python",
   "pygments_lexer": "ipython3",
   "version": "3.8.8"
  }
 },
 "nbformat": 4,
 "nbformat_minor": 5
}
